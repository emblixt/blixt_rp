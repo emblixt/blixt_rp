{
 "cells": [
  {
   "cell_type": "markdown",
   "metadata": {},
   "source": [
    "# Calculating sums and averages\n",
    "Workflow that describes how to calculate the statistics of the elastic properties in a set of intervals / zones, for a set of wells. The result is stored in a RokDoc *Sums and Averages* excel file, which can be used in RokDoc after converting the result file from *.xlsx* to *.xls*\n",
    "\n",
    "## Project table\n",
    "The Excel sheet *project_table.xlsx*, in the *excels* folder of the install directory, is the important hub for which wells, and well logs, to use."
   ]
  },
  {
   "cell_type": "markdown",
   "metadata": {},
   "source": [
    "<img src=\"images/ProjectTable.png\" />"
   ]
  },
  {
   "cell_type": "markdown",
   "metadata": {},
   "source": [
    "- *Column A*: **Use** \n",
    " - Determines which wells to use\n",
    "- *Column B*: **Given well name**\n",
    " - Is the name of this well to use by Python. \n",
    " - It is possible to repeat this name, e.g. *Well_E* is used in both row 6 and 7, when loading data from several las files to the same well\n",
    " - The well name must be \"the same\" in the las files, and tops file. But Python tries to be smart and translates names like *6506/4-3 S* to *6506_4_3S* through out the workflow\n",
    "- *Column C*: **las file**\n",
    " - Contains the pathname of the las file to load\n",
    "- *Column D - J*: *log types*\n",
    " - *Log types* (e.g. **P velocity**)  are used to group logs of similar type, like the log types of RokDoc. This is a comma-separated list of log names which must be found in the specified las file.\n",
    " - It is possible to add any number of log types by adding a column to the excel sheet.\n",
    "- *Column N*: **Note**\n",
    " - A note that will follow the well in the project.\n",
    " \n",
    "If a well log have different names in the different las file, it is possible to tell Python this by using a rename dictionary. E.G. the shale volume is named *VCL* in well A, B and C, but *VSH* in well E and F. A rename dictionary \n",
    "*{'VCL': ['VSH']}* tells Python to rename the *VSH* logs to *VCL*.\n",
    "\n",
    "\n",
    "Necessary imports"
   ]
  },
  {
   "cell_type": "code",
   "execution_count": 1,
   "metadata": {},
   "outputs": [],
   "source": [
    "import os\n",
    "import utils.io as uio\n",
    "import core.well as cw\n",
    "from utils.calc_stats import calc_stats2 as calc_stats\n",
    "from core.well import Project"
   ]
  },
  {
   "cell_type": "markdown",
   "metadata": {},
   "source": [
    "## Create a wells project\n",
    "If some las files have different names for the same well log, you need to *harmonize* the log names so that they are understood correctly in the project.\n",
    "\n",
    "For example, *Well_F* in this case, uses *VSH* as name for shale volume, while the others use *VCL*, to rename from *VSH* to *VCL*, use the following "
   ]
  },
  {
   "cell_type": "code",
   "execution_count": 2,
   "metadata": {},
   "outputs": [],
   "source": [
    "wp = Project(name='MyProject', rename_logs={'VCL': ['VSH']}, tops_file='test_data/RokDocTops.xlsx', tops_type='rokdoc')"
   ]
  },
  {
   "cell_type": "markdown",
   "metadata": {},
   "source": [
    "*Project* also take keywords:\n",
    "- *working_dir* - the folder where the project is situated\n",
    "- *project_table* - full or relative path name of the project table (.xlsx) explained in the top of this notebook\n",
    "- *log_to_stdout* - if True, logging information is sent to standard output, else to a text file\n",
    "- *tops_type* - tells the project what kind tops that are in use: *rokdoc*, *petrel* or *npd*\n",
    "\n",
    "By default, none of these need to set, and it uses the install directory, toghether with example data and project table there"
   ]
  },
  {
   "cell_type": "markdown",
   "metadata": {},
   "source": [
    "## Load project table\n"
   ]
  },
  {
   "cell_type": "code",
   "execution_count": 3,
   "metadata": {},
   "outputs": [
    {
     "name": "stdout",
     "output_type": "stream",
     "text": [
      "0 WELL_A test_data/Well A.las\n",
      "1 WELL_B test_data/Well B.las\n",
      "2 WELL_C test_data/Well C.las\n"
     ]
    }
   ],
   "source": [
    "#well_table = uio.project_wells(wp.project_table, wp.working_dir)\n",
    "wells = wp.load_all_wells()"
   ]
  },
  {
   "cell_type": "code",
   "execution_count": null,
   "metadata": {},
   "outputs": [],
   "source": [
    "#for well in wells.values():\n",
    "#    print(well.log_names())\n",
    "#    well.depth_plot('Volume')"
   ]
  },
  {
   "cell_type": "markdown",
   "metadata": {},
   "source": [
    "## Load tops or working intervals\n",
    "Well tops can either be handled by loading a file with well tops. They can be in format exported from Petrel, npd.no, or RokDoc.\n",
    "\n",
    "Or you can define working intervals in the *Working intervals* sheet of the project table"
   ]
  },
  {
   "cell_type": "markdown",
   "metadata": {},
   "source": [
    "<img src=\"images/ProjectTable_working_intervals.png\" />"
   ]
  },
  {
   "cell_type": "markdown",
   "metadata": {},
   "source": [
    "In the above example, the working intervals are defined through\n",
    "- *Column A*: **Use** \n",
    " - This column in not is use in the current version\n",
    "- *Column B*: **Given well name**\n",
    " - Is the name of wells in the project, as defined in the *Wells table* sheet.  \n",
    "- *Column C*: **Interval name**\n",
    " - name of the working interval\n",
    "- *Column D & E*: **Top depth** & **Base depth**\n",
    " - Depth in meters MD to top and base of the working interval\n",
    " \n",
    "The first five rows of this sheet should not be modified.\n",
    "\n",
    "Load the working intervals through"
   ]
  },
  {
   "cell_type": "code",
   "execution_count": null,
   "metadata": {},
   "outputs": [],
   "source": [
    "wis = uio.project_working_intervals(wp.project_table)"
   ]
  },
  {
   "cell_type": "markdown",
   "metadata": {},
   "source": [
    "Or load the tops directly from file"
   ]
  },
  {
   "cell_type": "code",
   "execution_count": 4,
   "metadata": {
    "scrolled": false
   },
   "outputs": [],
   "source": [
    "tops = uio.read_tops(wp.tops_file, frmt=wp.tops_type)\n",
    "#print('The tops file contains following wells and tops:')\n",
    "for well in list(tops.keys()):\n",
    "    print(' Well: {}'.format(well))\n",
    "#    for ttop in list(tops[well].keys()):\n",
    "#        print('  - {}'.format(ttop))"
   ]
  },
  {
   "cell_type": "markdown",
   "metadata": {},
   "source": [
    "   # Calculate RokDoc compatible Sums & Averages\n",
    "  This functionality is useful when you want to analyze the statistics of several formations / intervals across multiple wells (.las files).\n",
    "  The results is saved as an .xlsx spreadsheet, with statistics of the rock properties. To be read by RokDoc, it has to be converted to .xls"
   ]
  },
  {
   "cell_type": "markdown",
   "metadata": {},
   "source": [
    "Tell python where to save the results, where to find the wells, and the tops file\n",
    "\n",
    "If the .xlsx file exists, it will be appended to.\n",
    "\n",
    "If you want to save the results, or load the data from, elsewhere on your file system, please provide the full path name, using \"forward slashes\".\n",
    "\n",
    "In the folder of where the .xlsx file is situated, all QC plots will be saved. Their name will end with the below 'tag'"
   ]
  },
  {
   "cell_type": "code",
   "execution_count": null,
   "metadata": {},
   "outputs": [],
   "source": [
    "rd_file = 'results_folder/RokDoc_SumsAverages_from_python.xlsx'\n",
    "\n",
    "tag = 'my_test'"
   ]
  },
  {
   "cell_type": "markdown",
   "metadata": {},
   "source": [
    "Modify the project_table.xlsx so that it points to the wells; Well_A, Well_B and Well_C"
   ]
  },
  {
   "cell_type": "markdown",
   "metadata": {},
   "source": [
    "<img src=\"images/ProjectTable.png\" />\n"
   ]
  },
  {
   "cell_type": "markdown",
   "metadata": {},
   "source": [
    "Log names under each log types *P velocity*, *S velocity*, *Density*, *Porosity*, and *Volume* must be specified, else the output to RokDoc Sums and Averages will fail.\n",
    "\n",
    "Multiple log names can be specified under each log type (e.g. *Vp* and *Vp_dry*), but only one log per log type can be used in the statistics.\n",
    "\n",
    "Therefore we need a table to specify which log to use under each log type\n"
   ]
  },
  {
   "cell_type": "code",
   "execution_count": null,
   "metadata": {},
   "outputs": [],
   "source": [
    "log_table = {'P velocity': 'vp_dry', 'S velocity': 'vs_dry', 'Density': 'rho_dry', 'Porosity': 'phie', 'Volume': 'vcl'}"
   ]
  },
  {
   "cell_type": "markdown",
   "metadata": {},
   "source": [
    "Define the formations / intervals you like to calculate the statistics over.\n",
    " - 'name' is an arbitrary name used when writing the sums & averages to file\n",
    " - 'tops' is a list of formation / interval names of the top and base that defines the interval of interest. For the calculation to work, these names have to exist in the above defined tops_file, for the given wells. "
   ]
  },
  {
   "cell_type": "code",
   "execution_count": null,
   "metadata": {},
   "outputs": [],
   "source": [
    "intervals_sands = [\n",
    "            {'name': 'Sand H',\n",
    "             'tops': ['Top H', 'Base H']},        \n",
    "            {'name': 'Sand F',\n",
    "             'tops': ['Top F', 'Base F']},\n",
    "            {'name': 'Sand E',\n",
    "             'tops': ['Top E', 'Top F']},\n",
    "            {'name': 'Sand D',\n",
    "             'tops': ['Top D', 'Top E']},\n",
    "            {'name': 'Sand C',\n",
    "             'tops': ['Top C', 'Top D']}\n",
    "]\n",
    "intervals_shales = [\n",
    "    {'name': 'Shale C',\n",
    "         'tops': ['Top C', 'Top D']},\n",
    "    {'name': 'Shale G',\n",
    "         'tops': ['Top G', 'Top H']}\n",
    "]"
   ]
  },
  {
   "cell_type": "markdown",
   "metadata": {},
   "source": [
    "Test to see if the above intervals are present in all wells"
   ]
  },
  {
   "cell_type": "code",
   "execution_count": null,
   "metadata": {},
   "outputs": [],
   "source": [
    "for intervals in [intervals_sands, intervals_shales]:\n",
    "    for key in list(wells.keys()):\n",
    "        for top_name in [x['tops'][0].upper() for x in intervals]:\n",
    "            if top_name not in list(tops[key].keys()):\n",
    "                print('Top: {}, not present in well {}'.format(top_name, key))\n",
    "        for base_name in [x['tops'][1].upper() for x in intervals]:\n",
    "            if base_name not in list(tops[key].keys()):\n",
    "                print('Base: {}, not present in well {}'.format(base_name, key))"
   ]
  },
  {
   "cell_type": "markdown",
   "metadata": {},
   "source": [
    "Define the cut offs that are used to classify the data (e.g. sands or shales).\n",
    "The statistics will only be calculated within each interval, where the cut off is valid\n",
    "The log names (e.g. *vcl*) corresponding to a log type (e.g. *Volume*) must exist in the .las files"
   ]
  },
  {
   "cell_type": "code",
   "execution_count": null,
   "metadata": {},
   "outputs": [],
   "source": [
    "cutoffs_sands = {'Volume': ['<', 0.5], 'Porosity': ['>', 0.1]}\n",
    "cutoffs_shales = {'Volume': ['>', 0.5], 'Porosity': ['<', 0.1]}"
   ]
  },
  {
   "cell_type": "markdown",
   "metadata": {},
   "source": [
    "Run the calculation of the statistics"
   ]
  },
  {
   "cell_type": "code",
   "execution_count": null,
   "metadata": {
    "scrolled": true
   },
   "outputs": [],
   "source": [
    "calc_stats(wells, log_table, tops, intervals_sands, cutoffs_sands, \n",
    "              rokdoc_output=rd_file,\n",
    "              working_dir=os.path.join(wp.working_dir, 'results_folder'),\n",
    "              suffix=tag)"
   ]
  },
  {
   "cell_type": "code",
   "execution_count": null,
   "metadata": {},
   "outputs": [],
   "source": [
    "calc_stats(wells, log_table, tops, intervals_shales, cutoffs_shales, \n",
    "              rokdoc_output=rd_file,\n",
    "              working_dir=os.path.join(wp.working_dir, 'results_folder'),\n",
    "              suffix=tag)"
   ]
  },
  {
   "cell_type": "code",
   "execution_count": null,
   "metadata": {},
   "outputs": [],
   "source": []
  },
  {
   "cell_type": "code",
   "execution_count": null,
   "metadata": {},
   "outputs": [],
   "source": []
  }
 ],
 "metadata": {
  "kernelspec": {
   "display_name": "Python 3",
   "language": "python",
   "name": "python3"
  },
  "language_info": {
   "codemirror_mode": {
    "name": "ipython",
    "version": 3
   },
   "file_extension": ".py",
   "mimetype": "text/x-python",
   "name": "python",
   "nbconvert_exporter": "python",
   "pygments_lexer": "ipython3",
   "version": "3.7.4"
  }
 },
 "nbformat": 4,
 "nbformat_minor": 2
}
