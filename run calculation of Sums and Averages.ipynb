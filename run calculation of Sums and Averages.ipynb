{
 "cells": [
  {
   "cell_type": "markdown",
   "metadata": {},
   "source": [
    "# Calculating sums and averages\n",
    "Workflow that describes how the statistics over a set of intervals / zones can be calculated in Python\n",
    "\n",
    "Necessary imports"
   ]
  },
  {
   "cell_type": "code",
   "execution_count": 1,
   "metadata": {},
   "outputs": [],
   "source": [
    "import os\n",
    "import utils.io as uio\n",
    "import core.well as cw\n",
    "from utils.calc_stats import calc_stats2 as calc_stats\n",
    "from core.well import Project"
   ]
  },
  {
   "cell_type": "markdown",
   "metadata": {},
   "source": [
    "## Create a wells project"
   ]
  },
  {
   "cell_type": "code",
   "execution_count": 2,
   "metadata": {},
   "outputs": [],
   "source": [
    "wp = Project(name='MyProject', tops_file='test_data/RokDocTops.xlsx', tops_type='rokdoc')"
   ]
  },
  {
   "cell_type": "markdown",
   "metadata": {},
   "source": [
    "*Project* also take keywords:\n",
    "- *working_dir* - the folder where the project is situated\n",
    "- *project_table* - full or relative path name of a specific formatted .xlsx table that contain important project information\n",
    "- *log_to_stdout* - if True, logging information is sent to standard output, else to a text file\n",
    "\n",
    "By default, none of these need to set, and it uses the install directory, toghether with example data and project table there"
   ]
  },
  {
   "cell_type": "markdown",
   "metadata": {},
   "source": [
    "## Load project table\n",
    "The project table is a .xlsx file that contain, among other things, which wells and well logs to load, and where to find them.\n",
    "If some wells have different names for the same well log, you need to *harmonize* the log names so that they are understood correctly in the project.\n",
    "\n",
    "For example, *Well_F* in case, uses *VSH* as name for shale volume, while the others use *VCL*, to rename from *VSH* to *VCL*, use the following "
   ]
  },
  {
   "cell_type": "code",
   "execution_count": 3,
   "metadata": {},
   "outputs": [
    {
     "name": "stdout",
     "output_type": "stream",
     "text": [
      "0 WELL_A test_data/Well A.las\n",
      "1 WELL_B test_data/Well B.las\n",
      "2 WELL_C test_data/Well C.las\n"
     ]
    }
   ],
   "source": [
    "#well_table = uio.project_wells(wp.project_table, wp.working_dir)\n",
    "wells = wp.load_all_wells({'VCL': ['VSH']})"
   ]
  },
  {
   "cell_type": "code",
   "execution_count": 4,
   "metadata": {},
   "outputs": [],
   "source": [
    "#for well in wells.values():\n",
    "#    print(well.log_names())\n",
    "#    well.depth_plot('Volume')"
   ]
  },
  {
   "cell_type": "markdown",
   "metadata": {},
   "source": [
    "## Load tops\n",
    "Load file with well tops. They can be in format exported from Petrel (use uio.read_petrel_tops()), npd.no (use uio.read_npd_tops()), or RokDoc (use uio.read_rokdoc_tops())\n"
   ]
  },
  {
   "cell_type": "code",
   "execution_count": 5,
   "metadata": {
    "scrolled": false
   },
   "outputs": [
    {
     "name": "stdout",
     "output_type": "stream",
     "text": [
      " Well: WELL_A\n",
      " Well: WELL_B\n",
      " Well: WELL_C\n",
      " Well: WELL_F\n"
     ]
    }
   ],
   "source": [
    "tops = uio.read_tops(wp.tops_file, frmt=wp.tops_type)\n",
    "#print('The tops file contains following wells and tops:')\n",
    "for well in list(tops.keys()):\n",
    "    print(' Well: {}'.format(well))\n",
    "#    for ttop in list(tops[well].keys()):\n",
    "#        print('  - {}'.format(ttop))"
   ]
  },
  {
   "cell_type": "markdown",
   "metadata": {},
   "source": [
    "   # Calculate RokDoc compatible Sums & Averages\n",
    "  This functionality is useful when you want to analyze the statistics of several formations / intervals across multiple wells (.las files).\n",
    "  The results is saved as an .xlsx spreadsheet, with statistics of the rock properties. To be read by RokDoc, it has to be converted to .xls"
   ]
  },
  {
   "cell_type": "markdown",
   "metadata": {},
   "source": [
    "Tell python where to save the results, where to find the wells, and the tops file\n",
    "\n",
    "If the .xlsx file exists, it will be appended to\n",
    "If you want to save the results, or load the data from, elsewhere on your file system, please provide the full path name, using \"forward slashes\"\n",
    "In the folder of where the .xlsx file is situated, all QC plots will be saved. Their name will end with the below 'tag'"
   ]
  },
  {
   "cell_type": "code",
   "execution_count": 6,
   "metadata": {},
   "outputs": [],
   "source": [
    "rd_file = 'results_folder/RokDoc_SumsAverages_from_python.xlsx'\n",
    "\n",
    "tag = 'my_test'"
   ]
  },
  {
   "cell_type": "markdown",
   "metadata": {},
   "source": [
    "Modify the project_table.xlsx so that it points to the wells; Well_A, Well_B and Well_C"
   ]
  },
  {
   "cell_type": "markdown",
   "metadata": {},
   "source": [
    "<img src=\"images/Annotation 2020-02-11 093608.png\" />\n"
   ]
  },
  {
   "cell_type": "markdown",
   "metadata": {},
   "source": [
    "Log names under each log types *P velocity*, *S velocity*, *Density*, *Porosity*, and *Volume* must be specified.\n",
    "\n",
    "Multiple log names can be specified under each log type, but only one log per log type can be used in the statistics.\n",
    "\n",
    "Therefore we need a table to specify which log to use under each log type\n"
   ]
  },
  {
   "cell_type": "code",
   "execution_count": 7,
   "metadata": {},
   "outputs": [],
   "source": [
    "log_table = {'P velocity': 'vp_dry', 'S velocity': 'vs_dry', 'Density': 'rho_dry', 'Porosity': 'phie', 'Volume': 'vcl'}"
   ]
  },
  {
   "cell_type": "markdown",
   "metadata": {},
   "source": [
    "Define the formations / intervals you like to calculate the statistics over.\n",
    " - 'name' is an arbitrary name used when writing the sums & averages to file\n",
    " - 'tops' is a list of formation / interval names of the top and base that defines the interval of interest. For the calculation to work, these names have to exist in the above defined tops_file, for the given wells. "
   ]
  },
  {
   "cell_type": "code",
   "execution_count": 8,
   "metadata": {},
   "outputs": [],
   "source": [
    "intervals_sands = [\n",
    "            {'name': 'Sand H',\n",
    "             'tops': ['Top H', 'Base H']},        \n",
    "            {'name': 'Sand F',\n",
    "             'tops': ['Top F', 'Base F']},\n",
    "            {'name': 'Sand E',\n",
    "             'tops': ['Top E', 'Top F']},\n",
    "            {'name': 'Sand D',\n",
    "             'tops': ['Top D', 'Top E']},\n",
    "            {'name': 'Sand C',\n",
    "             'tops': ['Top C', 'Top D']}\n",
    "]\n",
    "intervals_shales = [\n",
    "    {'name': 'Shale C',\n",
    "         'tops': ['Top C', 'Top D']},\n",
    "    {'name': 'Shale G',\n",
    "         'tops': ['Top G', 'Top H']}\n",
    "]"
   ]
  },
  {
   "cell_type": "markdown",
   "metadata": {},
   "source": [
    "Test to see if the above intervals are present in all wells"
   ]
  },
  {
   "cell_type": "code",
   "execution_count": 9,
   "metadata": {},
   "outputs": [],
   "source": [
    "for intervals in [intervals_sands, intervals_shales]:\n",
    "    for key in list(wells.keys()):\n",
    "        for top_name in [x['tops'][0].upper() for x in intervals]:\n",
    "            if top_name not in list(tops[key].keys()):\n",
    "                print('Top: {}, not present in well {}'.format(top_name, key))\n",
    "        for base_name in [x['tops'][1].upper() for x in intervals]:\n",
    "            if base_name not in list(tops[key].keys()):\n",
    "                print('Base: {}, not present in well {}'.format(base_name, key))"
   ]
  },
  {
   "cell_type": "markdown",
   "metadata": {},
   "source": [
    "Define the cut offs that are used to classify the data (e.g. sands or shales).\n",
    "The statistics will only be calculated within each interval, where the cut off is valid\n",
    "The log names (e.g. *vcl*) corresponding to a log type (e.g. *Volume*) must exist in the .las files"
   ]
  },
  {
   "cell_type": "code",
   "execution_count": 10,
   "metadata": {},
   "outputs": [],
   "source": [
    "cutoffs_sands = {'Volume': ['<', 0.5], 'Porosity': ['>', 0.1]}\n",
    "cutoffs_shales = {'Volume': ['>', 0.5], 'Porosity': ['<', 0.1]}"
   ]
  },
  {
   "cell_type": "markdown",
   "metadata": {},
   "source": [
    "Run the calculation of the statistics"
   ]
  },
  {
   "cell_type": "code",
   "execution_count": 11,
   "metadata": {
    "scrolled": true
   },
   "outputs": [
    {
     "name": "stdout",
     "output_type": "stream",
     "text": [
      "Interval: Sand H\n",
      " Well: WELL_A\n",
      "vcl: < 0.5, phie: > 0.1, depth: >< [2211.0, 2365.0]\n",
      "   \n",
      " Well: WELL_B\n",
      "vcl: < 0.5, phie: > 0.1, depth: >< [2692.0, 2794.0]\n",
      "   \n",
      " Well: WELL_C\n",
      "vcl: < 0.5, phie: > 0.1, depth: >< [2068.0, 2092.0]\n",
      "   \n",
      "Creating new RokDoc Sums and Averages file\n",
      "Interval: Sand F\n",
      " Well: WELL_A\n",
      "vcl: < 0.5, phie: > 0.1, depth: >< [1984.0, 2158.0]\n",
      "   \n",
      " Well: WELL_B\n",
      "vcl: < 0.5, phie: > 0.1, depth: >< [2503.0, 2656.0]\n",
      "   \n",
      " Well: WELL_C\n",
      "vcl: < 0.5, phie: > 0.1, depth: >< [1980.0, 2024.2]\n",
      "   \n"
     ]
    },
    {
     "name": "stderr",
     "output_type": "stream",
     "text": [
      "C:\\Users\\marten\\PycharmProjects\\blixt_rp\\utils\\calc_stats.py:364: RuntimeWarning: Mean of empty slice\n",
      "  mn = np.nanmean(results_per_well[this_well_name][key])\n",
      "c:\\program files (x86)\\microsoft visual studio\\shared\\python37_64\\lib\\site-packages\\numpy\\lib\\nanfunctions.py:1666: RuntimeWarning: Degrees of freedom <= 0 for slice.\n",
      "  keepdims=keepdims)\n"
     ]
    },
    {
     "name": "stdout",
     "output_type": "stream",
     "text": [
      "Appending to existing RokDoc Sums and averages file\n",
      "Interval: Sand E\n",
      " Well: WELL_A\n",
      "vcl: < 0.5, phie: > 0.1, depth: >< [1878.0, 1984.0]\n",
      "   \n",
      " Well: WELL_B\n",
      "vcl: < 0.5, phie: > 0.1, depth: >< [2120.0, 2503.0]\n",
      "   \n",
      " Well: WELL_C\n",
      "vcl: < 0.5, phie: > 0.1, depth: >< [1831.0, 1980.0]\n",
      "   \n",
      "Appending to existing RokDoc Sums and averages file\n",
      "Interval: Sand D\n",
      " Well: WELL_A\n",
      "vcl: < 0.5, phie: > 0.1, depth: >< [1826.0, 1878.0]\n",
      "   \n",
      " Well: WELL_B\n",
      "vcl: < 0.5, phie: > 0.1, depth: >< [1948.0, 2120.0]\n",
      "   \n",
      " Well: WELL_C\n",
      "vcl: < 0.5, phie: > 0.1, depth: >< [1764.0, 1831.0]\n",
      "   \n",
      "Appending to existing RokDoc Sums and averages file\n",
      "Interval: Sand C\n",
      " Well: WELL_A\n",
      "vcl: < 0.5, phie: > 0.1, depth: >< [1585.0, 1826.0]\n",
      "   \n",
      " Well: WELL_B\n",
      "vcl: < 0.5, phie: > 0.1, depth: >< [1450.0, 1948.0]\n",
      "   \n",
      " Well: WELL_C\n",
      "vcl: < 0.5, phie: > 0.1, depth: >< [765.0, 1764.0]\n",
      "   \n",
      "Appending to existing RokDoc Sums and averages file\n"
     ]
    }
   ],
   "source": [
    "calc_stats(wells, log_table, tops, intervals_sands, cutoffs_sands, \n",
    "              rokdoc_output=rd_file,\n",
    "              working_dir=os.path.join(wp.working_dir, 'results_folder'),\n",
    "              suffix=tag)"
   ]
  },
  {
   "cell_type": "code",
   "execution_count": null,
   "metadata": {},
   "outputs": [],
   "source": [
    "calc_stats(wells, log_table, tops, intervals_shales, cutoffs_shales, \n",
    "              rokdoc_output=rd_file,\n",
    "              working_dir=os.path.join(wp.working_dir, 'results_folder'),\n",
    "              suffix=tag)"
   ]
  },
  {
   "cell_type": "code",
   "execution_count": null,
   "metadata": {},
   "outputs": [],
   "source": []
  },
  {
   "cell_type": "code",
   "execution_count": null,
   "metadata": {},
   "outputs": [],
   "source": []
  }
 ],
 "metadata": {
  "kernelspec": {
   "display_name": "Python 3",
   "language": "python",
   "name": "python3"
  },
  "language_info": {
   "codemirror_mode": {
    "name": "ipython",
    "version": 3
   },
   "file_extension": ".py",
   "mimetype": "text/x-python",
   "name": "python",
   "nbconvert_exporter": "python",
   "pygments_lexer": "ipython3",
   "version": "3.7.4"
  }
 },
 "nbformat": 4,
 "nbformat_minor": 2
}
