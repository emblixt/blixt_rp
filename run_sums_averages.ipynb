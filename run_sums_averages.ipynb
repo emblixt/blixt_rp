{
 "cells": [
  {
   "cell_type": "markdown",
   "metadata": {},
   "source": [
    "   # Calculate RokDoc compatible Sums & Averages\n",
    "  This functionality is useful when you want to analyze the statistics of several formations / intervals across multiple wells (.las files).\n",
    "  The results is saved as an .xlsx spreadsheet, with statistics of the rock properties. To be read by RokDoc, it has to be converted to .xls"
   ]
  },
  {
   "cell_type": "markdown",
   "metadata": {},
   "source": [
    "Import local scripts necessary for running the calculation of Sums and Averages"
   ]
  },
  {
   "cell_type": "code",
   "execution_count": 1,
   "metadata": {},
   "outputs": [],
   "source": [
    "import well_tops as wt"
   ]
  },
  {
   "cell_type": "markdown",
   "metadata": {},
   "source": [
    "Tell python where to save the results, where to find the wells, and the tops file\n",
    " - If the .xlsx file exists, it will be appended to\n",
    " - If you want to save the results, or load the data from, elsewhere on your file system, please provide the full path name, using \"forward slashes\"\n",
    " - In the folder of where the .xlsx file is situated, all QC plots will be saved. Their name will end with the below 'tag' \n"
   ]
  },
  {
   "cell_type": "code",
   "execution_count": 2,
   "metadata": {},
   "outputs": [],
   "source": [
    "#wells_folder = 'X:/A_Folder/Somewhere/test_data/' \n",
    "wells_folder = 'test_data/' \n",
    "\n",
    "#tops_file = 'X:/A_Folder/Elsewhere/test_data/RokDocTops.xlsx'\n",
    "tops_file = 'test_data/RokDocTops.xlsx'\n",
    "\n",
    "#save_to = 'X:/A_Folder/Near/You/RokDoc_SumsAverages_from_python.xlsx'\n",
    "save_to = 'results_folder/RokDoc_SumsAverages_from_python.xlsx'\n",
    "\n",
    "tag = 'my_test'"
   ]
  },
  {
   "cell_type": "markdown",
   "metadata": {},
   "source": [
    "Load file with well tops. They can be in format exported from Petrel (use wt.read_petrel_tops()), npd.no (use wt.read_npd_tops()), or RokDoc (use wt.read_rokdoc_tops())"
   ]
  },
  {
   "cell_type": "code",
   "execution_count": 10,
   "metadata": {},
   "outputs": [
    {
     "name": "stdout",
     "output_type": "stream",
     "text": [
      "The tops file contains following wells and tops:\n",
      " Well: WELL_B\n",
      "  - TOP A\n",
      "  - TOP C\n",
      "  - TOP D\n",
      "  - TOP E\n",
      "  - TOP F\n",
      "  - BASE F\n",
      "  - TOP G\n",
      "  - TOP H\n",
      "  - BASE H\n",
      " Well: WELL_A\n",
      "  - TOP A\n",
      "  - TOP B\n",
      "  - TOP C\n",
      "  - TOP D\n",
      "  - TOP E\n",
      "  - TOP F\n",
      "  - BASE F\n",
      "  - TOP G\n",
      "  - TOP H\n",
      "  - BASE H\n",
      "  - TOP I\n",
      "  - TOP J\n",
      " Well: WELL_C\n",
      "  - TOP C\n",
      "  - TOP D\n",
      "  - TOP E\n",
      "  - TOP F\n",
      "  - BASE F\n",
      "  - TOP G\n",
      "  - TOP H\n",
      "  - BASE H\n",
      "  - TOP I\n"
     ]
    }
   ],
   "source": [
    "tops = wt.read_rokdoc_tops(tops_file)\n",
    "print('The tops file contains following wells and tops:')\n",
    "for well in list(tops.keys()):\n",
    "    print(' Well: {}'.format(well))\n",
    "    for ttop in list(tops[well].keys()):\n",
    "        print('  - {}'.format(ttop))"
   ]
  },
  {
   "cell_type": "markdown",
   "metadata": {},
   "source": [
    "Give folder where .las files are stored, and names of the individual .las files"
   ]
  },
  {
   "cell_type": "code",
   "execution_count": 11,
   "metadata": {},
   "outputs": [],
   "source": [
    "  \n",
    "well_files = [wells_folder + xx for xx in [\n",
    "        'Well A.las',\n",
    "        'Well B.las',\n",
    "        'Well C.las'\n",
    "]]"
   ]
  },
  {
   "cell_type": "markdown",
   "metadata": {},
   "source": [
    "Define the formations / intervals you like to calculate the statistics over.\n",
    " - 'name' is an arbitrary name used when writing the sums & averages to file\n",
    " - 'tops' is a list of formation / interval names of the top and base that defines the interval of interest. These names have to exist in the above defined tops_file, for the given wells, for the calculation to work"
   ]
  },
  {
   "cell_type": "code",
   "execution_count": 12,
   "metadata": {},
   "outputs": [],
   "source": [
    "intervals = [\n",
    "            {'name': 'Sand H',\n",
    "             'tops': ['Top H', 'Base H']},        \n",
    "            {'name': 'Sand F',\n",
    "             'tops': ['Top F', 'Base F']},\n",
    "            {'name': 'Sand E',\n",
    "             'tops': ['Top E', 'Top F']},\n",
    "            {'name': 'Sand D',\n",
    "             'tops': ['Top D', 'Top E']},\n",
    "            {'name': 'Sand C',\n",
    "             'tops': ['Top C', 'Top D']}\n",
    "]"
   ]
  },
  {
   "cell_type": "markdown",
   "metadata": {},
   "source": [
    "Define the cut offs that are used to classify the data (e.g. sands or shales).\n",
    "The statistics will only be calculated within each interval, where the cut off is valid\n",
    "The log names (e.g. 'vcl') must exist in the .las files"
   ]
  },
  {
   "cell_type": "code",
   "execution_count": 13,
   "metadata": {},
   "outputs": [],
   "source": [
    "cutoffs = {'vcl': ['<', 0.5], 'phie': ['>', 0.1]}"
   ]
  },
  {
   "cell_type": "markdown",
   "metadata": {},
   "source": [
    "Define the logs we want to calculate the statistics for\n",
    "1. The first instance of the name tells RokDoc what it is, e.g. 'vp' for Vp velocity (please keep these)\n",
    "2. The second instance of the name refers to what it is called in the .las files, e.g. 'vp_spline' "
   ]
  },
  {
   "cell_type": "code",
   "execution_count": 14,
   "metadata": {},
   "outputs": [],
   "source": [
    "logs = {\n",
    "    'vp': 'vp',     # Vp velocity\n",
    "    'vs': 'vs',     # Vs velocity\n",
    "    'rho': 'rhob',  # Density\n",
    "    'phi': 'phie',  # Porosity\n",
    "    'vcl': 'vcl'    # Shale volume\n",
    "}"
   ]
  },
  {
   "cell_type": "markdown",
   "metadata": {},
   "source": [
    "Run the calculation of the statistics"
   ]
  },
  {
   "cell_type": "code",
   "execution_count": 15,
   "metadata": {},
   "outputs": [
    {
     "name": "stdout",
     "output_type": "stream",
     "text": [
      "Well: WELL_A\n",
      " Top: Top H: 2211.00 [m] MD\n",
      " Base: Base H: 2365.00 [m] MD\n",
      "   Depth range: 2211.1 - 2364.9\n",
      "  vp:\n",
      "  vs:\n",
      "  rhob:\n",
      "  phie:\n",
      "  vcl:\n",
      "Well: WELL_B\n",
      " Top: Top H: 2692.00 [m] MD\n",
      " Base: Base H: 2794.00 [m] MD\n",
      "   Depth range: 2692.0 - 2793.9\n",
      "  vp:\n",
      "  vs:\n",
      "  rhob:\n",
      "  phie:\n",
      "  vcl:\n",
      "Well: WELL_C\n",
      " Top: Top H: 2068.00 [m] MD\n",
      " Base: Base H: 2092.00 [m] MD\n",
      "   Depth range: 2068.1 - 2092.0\n",
      "  vp:\n",
      "  vs:\n",
      "  rhob:\n",
      "  phie:\n",
      "  vcl:\n",
      "Appending to existing RokDoc Sums and averages file\n",
      "Well: WELL_A\n",
      " Top: Top F: 1984.00 [m] MD\n",
      " Base: Base F: 2158.00 [m] MD\n",
      "   Depth range: 1984.0 - 2157.9\n",
      "  vp:\n",
      "  vs:\n",
      "  rhob:\n",
      "  phie:\n",
      "  vcl:\n",
      "Well: WELL_B\n",
      " Top: Top F: 2503.00 [m] MD\n",
      " Base: Base F: 2656.00 [m] MD\n",
      "   Depth range: 2503.1 - 2656.0\n",
      "  vp:\n",
      "  vs:\n",
      "  rhob:\n",
      "  phie:\n",
      "  vcl:\n",
      "Well: WELL_C\n",
      " Top: Top F: 1980.00 [m] MD\n",
      " Base: Base F: 2024.20 [m] MD\n",
      "   Depth range: 1980.1 - 2024.2\n",
      "  vp:\n",
      "  vs:\n",
      "  rhob:\n",
      "  phie:\n",
      "  vcl:\n",
      "Appending to existing RokDoc Sums and averages file\n",
      "Well: WELL_A\n",
      " Top: Top E: 1878.00 [m] MD\n",
      " Base: Top F: 1984.00 [m] MD\n",
      "   Depth range: 1878.1 - 1983.9\n",
      "  vp:\n",
      "  vs:\n",
      "  rhob:\n",
      "  phie:\n",
      "  vcl:\n",
      "Well: WELL_B\n",
      " Top: Top E: 2120.00 [m] MD\n",
      " Base: Top F: 2503.00 [m] MD\n",
      "   Depth range: 2120.0 - 2502.9\n",
      "  vp:\n",
      "  vs:\n",
      "  rhob:\n",
      "  phie:\n",
      "  vcl:\n",
      "Well: WELL_C\n",
      " Top: Top E: 1831.00 [m] MD\n",
      " Base: Top F: 1980.00 [m] MD\n",
      "   Depth range: 1831.1 - 1980.0\n",
      "  vp:\n",
      "  vs:\n",
      "  rhob:\n",
      "  phie:\n",
      "  vcl:\n",
      "Appending to existing RokDoc Sums and averages file\n",
      "Well: WELL_A\n",
      " Top: Top D: 1826.00 [m] MD\n",
      " Base: Top E: 1878.00 [m] MD\n",
      "   Depth range: 1826.0 - 1878.0\n",
      "  vp:\n",
      "  vs:\n",
      "  rhob:\n",
      "  phie:\n",
      "  vcl:\n",
      "Well: WELL_B\n",
      " Top: Top D: 1948.00 [m] MD\n",
      " Base: Top E: 2120.00 [m] MD\n",
      "   Depth range: 1948.1 - 2119.9\n",
      "  vp:\n",
      "  vs:\n",
      "  rhob:\n",
      "  phie:\n",
      "  vcl:\n",
      "Well: WELL_C\n",
      " Top: Top D: 1764.00 [m] MD\n",
      " Base: Top E: 1831.00 [m] MD\n",
      "   Depth range: 1764.0 - 1830.9\n",
      "  vp:\n",
      "  vs:\n",
      "  rhob:\n",
      "  phie:\n",
      "  vcl:\n",
      "Appending to existing RokDoc Sums and averages file\n",
      "Well: WELL_A\n",
      " Top: Top C: 1585.00 [m] MD\n",
      " Base: Top D: 1826.00 [m] MD\n",
      "   Depth range: 1585.1 - 1825.9\n",
      "  vp:\n",
      "  vs:\n",
      "  rhob:\n",
      "  phie:\n",
      "  vcl:\n",
      "Well: WELL_B\n",
      " Top: Top C: 1450.00 [m] MD\n",
      " Base: Top D: 1948.00 [m] MD\n",
      "   Depth range: 1450.0 - 1948.0\n",
      "  vp:\n",
      "  vs:\n",
      "  rhob:\n",
      "  phie:\n",
      "  vcl:\n",
      "Well: WELL_C\n",
      " Top: Top C: 765.00 [m] MD\n",
      " Base: Top D: 1764.00 [m] MD\n",
      "   Depth range: 765.0 - 1763.9\n",
      "  vp:\n",
      "  vs:\n",
      "  rhob:\n",
      "  phie:\n",
      "  vcl:\n",
      "Appending to existing RokDoc Sums and averages file\n"
     ]
    }
   ],
   "source": [
    "wt.calc_stats(tops, well_files, intervals, logs, cutoffs, save_to, tag)"
   ]
  },
  {
   "cell_type": "markdown",
   "metadata": {},
   "source": [
    "Now add a shale example to the sums and averages file"
   ]
  },
  {
   "cell_type": "code",
   "execution_count": 16,
   "metadata": {},
   "outputs": [
    {
     "name": "stdout",
     "output_type": "stream",
     "text": [
      "Well: WELL_A\n",
      " Top: Top G: 2158.00 [m] MD\n",
      " Base: Top H: 2211.00 [m] MD\n",
      "   Depth range: 2158.1 - 2211.0\n",
      "  vp:\n",
      "  vs:\n",
      "  rhob:\n",
      "  phie:\n",
      "  vcl:\n",
      "Well: WELL_B\n",
      " Top: Top G: 2656.00 [m] MD\n",
      " Base: Top H: 2692.00 [m] MD\n",
      "   Depth range: 2656.1 - 2691.9\n",
      "  vp:\n",
      "  vs:\n",
      "  rhob:\n",
      "  phie:\n",
      "  vcl:\n",
      "Well: WELL_C\n",
      " Top: Top G: 2024.20 [m] MD\n",
      " Base: Top H: 2068.00 [m] MD\n",
      "   Depth range: 2024.3 - 2067.9\n",
      "  vp:\n",
      "  vs:\n",
      "  rhob:\n",
      "  phie:\n",
      "  vcl:\n",
      "Appending to existing RokDoc Sums and averages file\n"
     ]
    }
   ],
   "source": [
    "intervals = [\n",
    "            {'name': 'Shale G',\n",
    "             'tops': ['Top G', 'Top H']}        \n",
    "]\n",
    "cutoffs = {'vcl': ['>', 0.5], 'phie': ['<', 0.1]}\n",
    "wt.calc_stats(tops, well_files, intervals, logs, cutoffs, save_to, tag)"
   ]
  },
  {
   "cell_type": "code",
   "execution_count": null,
   "metadata": {},
   "outputs": [],
   "source": []
  }
 ],
 "metadata": {
  "kernelspec": {
   "display_name": "Python 3",
   "language": "python",
   "name": "python3"
  },
  "language_info": {
   "codemirror_mode": {
    "name": "ipython",
    "version": 3
   },
   "file_extension": ".py",
   "mimetype": "text/x-python",
   "name": "python",
   "nbconvert_exporter": "python",
   "pygments_lexer": "ipython3",
   "version": "3.7.3"
  }
 },
 "nbformat": 4,
 "nbformat_minor": 2
}
