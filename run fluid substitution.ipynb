{
 "cells": [
  {
   "cell_type": "markdown",
   "metadata": {},
   "source": [
    "# Fluid substitution using Gassmann\n",
    "Necessary imports"
   ]
  },
  {
   "cell_type": "code",
   "execution_count": 2,
   "metadata": {},
   "outputs": [],
   "source": [
    "import matplotlib.pyplot as plt\n",
    "from copy import deepcopy\n",
    "import utils.io as uio\n",
    "from core.well import Project, Well\n",
    "from core.minerals import MineralMix\n",
    "from core.fluids import FluidMix\n",
    "import rp.rp_core as rp"
   ]
  },
  {
   "cell_type": "markdown",
   "metadata": {},
   "source": [
    "## Create a project\n",
    "The project remembers where important information is stored, and controls the logging"
   ]
  },
  {
   "cell_type": "code",
   "execution_count": 3,
   "metadata": {},
   "outputs": [],
   "source": [
    "wp = Project(\n",
    "    name='FluidSub', \n",
    "    project_table='excels/project_table.xlsx')"
   ]
  },
  {
   "cell_type": "markdown",
   "metadata": {},
   "source": [
    "Note that relative path names are allowed. The project table is a .xlsx file that contain which wells and well logs to load, where to find them, and important for fluid substitution; the fluids and minerals.\n",
    "\n",
    "*Project* also take keywords:\n",
    "- *working_dir* - the folder where the project is situated\n",
    "- *log_to_stdout* - if True, logging information is sent to standard output, else to a text file\n",
    "\n",
    "By default, none of these need to set, and it uses the install directory, toghether with example data and project table there\n",
    "\n",
    "\n",
    "### Load wells\n",
    "The *Wells table* sheet of the *project_table.xlsx* holds information about which wells and well logs to use.\n",
    "<img src=\"images/Fluid substitution - wells.png\" />\n",
    "In this case, we only read in Well F, and the selected well logs that the las file *test_data/Well F.las* contains.\n",
    "\n",
    "Wells are loaded using:"
   ]
  },
  {
   "cell_type": "code",
   "execution_count": 21,
   "metadata": {},
   "outputs": [
    {
     "name": "stdout",
     "output_type": "stream",
     "text": [
      "0 WELL_F test_data/Well F.las\n"
     ]
    }
   ],
   "source": [
    "wells= wp.load_all_wells(block_name='FBlock')\n",
    "w = wells['WELL_F']"
   ]
  },
  {
   "cell_type": "markdown",
   "metadata": {},
   "source": [
    "The *block_name* key word is used to group the logs of *Well F*, but is not necessary to specify.\n",
    "\n",
    "### Load working intervals\n",
    "The working intervals are used to define where the fluid substitution will take place, and are loaded through:"
   ]
  },
  {
   "cell_type": "code",
   "execution_count": 5,
   "metadata": {},
   "outputs": [],
   "source": [
    "wis = uio.project_working_intervals(wp.project_table)"
   ]
  },
  {
   "cell_type": "markdown",
   "metadata": {},
   "source": [
    "### Load fluids\n",
    "The *Fluids* sheet of the *project_table.xlsx* holds information about the fluids that our fluid mixtures contains.\n",
    "<img src=\"images/Fluid substitution - fluids.png\" />\n",
    "\n",
    "Column *A* to *D* contains name, bulk and shear modolus, and density (if column *E* is set to *User specified*). \n",
    "The name of a fluid must be unique.\n",
    "The option to use Batzle and Wang method to calculate the elastic fluid properties is still not fully implemented, so the *Default* fluid in this example is ignored by the system right now.\n",
    "\n",
    "The *Fluid mixtures* sheet uses the fluids defined above to determine how they are used in fluid substitution. \n",
    "\n",
    "<img src=\"images/Fluid substitution - fluidmixs.png\" />\n",
    "\n",
    "- *Column A*: **Substitution order** \n",
    " - The first column determines if the fluid belongs to the *Initial* or *Final* fluids.\n",
    "- *Column B*: **Well name**\n",
    " - Is the name of well, as defined in the *Wells table* sheet, this fluid is used in.  \n",
    "- *Column C*: **Interval name**\n",
    " - name of the working interval this fluid is used\n",
    "- *Column D*: **Fluid name**\n",
    " - The selected fluid, from *Fluids* sheet.:w\n",
    "- *Column E*: **Volume fraction**\n",
    " - Column *E* determines which Volume fraction (saturation) to use for the fluid. Set it to the name of a well log (*SW* for the final Brine saturation in this example), or *complement* if the fluids takes up the remaining volume, or a number if a constant saturation is requested.\n",
    "\n",
    "Load the fluids through"
   ]
  },
  {
   "cell_type": "code",
   "execution_count": 6,
   "metadata": {},
   "outputs": [
    {
     "name": "stdout",
     "output_type": "stream",
     "text": [
      "WARNING Calculation of fluid properties is still not implemented, please use constant values\n",
      "Fluid mixture: MyFluids\n",
      "initial fluids:\n",
      " - Well WELL_F\n",
      "  + Working interval SAND E\n",
      "    brine\n",
      "      K: 2.8, Mu: nan, Rho 1.1\n",
      "      Calc. method: User specified\n",
      "      Volume fraction: 1.0\n",
      "final fluids:\n",
      " - Well WELL_F\n",
      "  + Working interval SAND E\n",
      "    oil\n",
      "      K: 0.9, Mu: nan, Rho 0.8\n",
      "      Calc. method: User specified\n",
      "      Volume fraction: complement\n",
      "    brine\n",
      "      K: 2.8, Mu: nan, Rho 1.1\n",
      "      Calc. method: User specified\n",
      "      Volume fraction: sw\n",
      "\n"
     ]
    }
   ],
   "source": [
    "myfluids = FluidMix() \n",
    "myfluids.read_excel(wp.project_table)\n",
    "print(myfluids)"
   ]
  },
  {
   "cell_type": "markdown",
   "metadata": {},
   "source": [
    "### Load minerals\n",
    "Similarly to the fluids, the *Minerals* sheet of the *project_table.xlsx* holds information about the minerals used in the calculation of the mineral bulk modulus\n",
    "<img src=\"images/Fluid substitution - Minerals.png\" />\n",
    "Column *A* to *D* contains name, bulk and shear modolus, and density of minerals. \n",
    "\n",
    "The *Mineral mixtures* sheet \n",
    "<img src=\"images/Fluid substitution - Mineralmixs.png\" />\n",
    "\n",
    "holds information about which minerals are present in individual intervals for each well, and their volume distribution.\n",
    "Column *F* determines which Volume fraction (saturation) to use for the minerals. Set it to the name of a well log (*VCL* for the Shale in this example), or *complement* if the mineral takes up the remaining volume, or a number if a constant volume fraction is requested. \n",
    "\n",
    "Minerals for which no *Volume fraction* is specified are ignored by the system.\n",
    "\n",
    "Load the minerals through"
   ]
  },
  {
   "cell_type": "code",
   "execution_count": 7,
   "metadata": {},
   "outputs": [
    {
     "name": "stdout",
     "output_type": "stream",
     "text": [
      "Mineral mixture: MyMinerals\n",
      " - Well WELL_F\n",
      "  + Working interval SAND E\n",
      "    quartz\n",
      "      K: 36.6, Mu: 45.0, Rho 2.65\n",
      "      Volume fraction: complement\n",
      "    shale\n",
      "      K: 11.4, Mu: 3.0, Rho 2.35\n",
      "      Volume fraction: vcl\n",
      "\n"
     ]
    }
   ],
   "source": [
    "mymins = MineralMix() \n",
    "mymins.read_excel(wp.project_table)\n",
    "print(mymins)"
   ]
  },
  {
   "cell_type": "markdown",
   "metadata": {},
   "source": [
    "## Fluid substitution\n",
    "Cut-offs are used to define sands, and we will restrict the fluid substitution to these"
   ]
  },
  {
   "cell_type": "code",
   "execution_count": 8,
   "metadata": {},
   "outputs": [],
   "source": [
    "cutoffs = {'Volume': ['<', 0.5], 'Porosity': ['>', 0.1]}"
   ]
  },
  {
   "cell_type": "markdown",
   "metadata": {},
   "source": [
    "### Mineral bulk modulus and porosity\n",
    "Calculate the mineral bulk modulus using the Voigt-Reuss-Hill average of the volume fractions of the minerals defined in *mymins*. And extract the porosity"
   ]
  },
  {
   "cell_type": "code",
   "execution_count": 9,
   "metadata": {},
   "outputs": [
    {
     "name": "stdout",
     "output_type": "stream",
     "text": [
      " Mineral k: quartz, volume frac: complement\n",
      " Mineral k: shale, volume frac: vcl\n",
      "k0_dict is of type <class 'dict'>, with keywords ['SAND E']\n"
     ]
    },
    {
     "name": "stderr",
     "output_type": "stream",
     "text": [
      "C:\\Users\\marten\\PycharmProjects\\blixt_rp\\rp\\rp_core.py:469: RuntimeWarning: invalid value encountered in greater\n",
      "  if (abs(sum(f) - 1.0) > 0.02).any():\n"
     ]
    }
   ],
   "source": [
    "k0_dict = w.calc_vrh_bounds(mymins, param='k', wis=wis, method='Voigt-Reuss-Hill', block_name='FBlock')\n",
    "\n",
    "por = w.block['FBlock'].logs['phie'].data\n",
    "\n",
    "print('k0_dict is of type {}, with keywords {}'.format(type(k0_dict), list(k0_dict.keys())))"
   ]
  },
  {
   "cell_type": "markdown",
   "metadata": {},
   "source": [
    "**Note** that the bulk modulus above is calculated for the entire length of the well, but has a \"keyword - value\" pair (*SAND E* - bulk modulus) for each interval the minerals where defined in, in sheet *Mineral mixtures* sheet of the project table.\n",
    "\n",
    "### Initial values\n",
    "Calculate the density and bulk modulus of the initial fluids"
   ]
  },
  {
   "cell_type": "code",
   "execution_count": 10,
   "metadata": {},
   "outputs": [
    {
     "name": "stdout",
     "output_type": "stream",
     "text": [
      " Fluid rho: brine, volume frac: 1.0\n",
      " Fluid k: brine, volume frac: 1.0\n"
     ]
    }
   ],
   "source": [
    "rho_f1_dict = w.calc_vrh_bounds(myfluids.fluids['initial'], param='rho', wis=wis, method='Voigt', block_name='FBlock')\n",
    "k_f1_dict = w.calc_vrh_bounds(myfluids.fluids['initial'], param='k', wis=wis, method='Reuss', block_name='FBlock')"
   ]
  },
  {
   "cell_type": "markdown",
   "metadata": {},
   "source": [
    "Similarly to the mineral bulk modulus, the fluids density and bulk modulus is calculated for the entire length of the well, but has a \"keyword - value\" pair for each working interval used in the definition of the initial (and final) fluids."
   ]
  },
  {
   "cell_type": "markdown",
   "metadata": {},
   "source": [
    "And extract the initial vp, vs and rho of the saturated rocks from the logs as *LogCurve* objects"
   ]
  },
  {
   "cell_type": "code",
   "execution_count": 11,
   "metadata": {},
   "outputs": [],
   "source": [
    "v_p_1 = w.block['FBlock'].logs['vp_dry']  # a LogCurve object\n",
    "v_s_1 = w.block['FBlock'].logs['vs_dry']\n",
    "rho_1 = w.block['FBlock'].logs['rho_dry']"
   ]
  },
  {
   "cell_type": "markdown",
   "metadata": {},
   "source": [
    "### Final values\n",
    "The density and bulk modulus of the final fluids "
   ]
  },
  {
   "cell_type": "code",
   "execution_count": 12,
   "metadata": {},
   "outputs": [
    {
     "name": "stdout",
     "output_type": "stream",
     "text": [
      " Fluid rho: oil, volume frac: complement\n",
      " Fluid rho: brine, volume frac: sw\n",
      " Fluid k: oil, volume frac: complement\n",
      " Fluid k: brine, volume frac: sw\n"
     ]
    }
   ],
   "source": [
    "rho_f2_dict = w.calc_vrh_bounds(myfluids.fluids['final'], param='rho', wis=wis, method='Voigt', block_name='FBlock')\n",
    "k_f2_dict = w.calc_vrh_bounds(myfluids.fluids['final'], param='k', wis=wis, method='Reuss', block_name='FBlock')"
   ]
  },
  {
   "cell_type": "markdown",
   "metadata": {},
   "source": [
    "Then the final elastic properties can be calculated using Gassmann's.\n",
    "\n",
    "As the fluids and minerals are defined in working intervals, we need to do the subsitution in each interval.\n",
    "\n",
    "The cut-offs will also be applied in the results"
   ]
  },
  {
   "cell_type": "code",
   "execution_count": 22,
   "metadata": {},
   "outputs": [],
   "source": [
    "tag = 'fs'  # tag the resulting logs after fluid substitution\n",
    "for wi in list(rho_f1_dict.keys()):\n",
    "    \n",
    "    k_f1 = k_f1_dict[wi]\n",
    "    rho_f1 = rho_f1_dict[wi]\n",
    "    \n",
    "    k_f2 = k_f2_dict[wi]\n",
    "    rho_f2 = rho_f2_dict[wi]\n",
    "    \n",
    "    k0 = k0_dict[wi]\n",
    "    \n",
    "    # calculate the mask for the given cut-offs, and for the given working interval\n",
    "    w.calc_mask(cutoffs, wis=wis, wi_name=wi, name='sand_mask')\n",
    "    mask = w.block['FBlock'].masks['sand_mask'].data\n",
    "    \n",
    "    # Do the fluid substitution itself\n",
    "    _v_p_2, _v_s_2, _rho_2, _k_2 = rp.gassmann_vel(\n",
    "        v_p_1.data, v_s_1.data, rho_1.data, k_f1, rho_f1, k_f2, rho_f2, k0, por)\n",
    "    \n",
    "    # copy the inital LogCurves, so that we can use the copies to hold the fluid substituted values\n",
    "    v_p_2 = deepcopy(v_p_1)\n",
    "    v_s_2 = deepcopy(v_s_1)\n",
    "    rho_2 = deepcopy(rho_1)\n",
    "    \n",
    "    # Add the fluid substituted results to the new LogCurve objects\n",
    "    for xx, yy in zip([v_p_2, v_s_2, rho_2], [_v_p_2, _v_s_2, _rho_2]):\n",
    "        orig_name = deepcopy(xx.name)\n",
    "        xx.name += '_{}_{}'.format(wi.lower().replace(' ','_'), tag.lower())\n",
    "        xx.header.name += '_{}_{}'.format(wi.lower().replace(' ','_'), tag.lower())\n",
    "        xx.header.desc = 'Fluid substituted {}'.format(orig_name) \n",
    "        mod_history = 'Calculated using Gassmann fluid substitution using following\\n'\n",
    "        mod_history += 'Mineral mixtures: {}\\n'.format(mymins.print_minerals(w.well, wi))\n",
    "        mod_history += 'Initial fluids: {}\\n'.format(\n",
    "            myfluids.print_fluids('initial', w.well, wi))\n",
    "        mod_history += 'Final fluids: {}\\n'.format(\n",
    "            myfluids.print_fluids('final', w.well, wi))\n",
    "        xx.header.modification_history = mod_history \n",
    "        xx.data[mask] = yy[mask]\n",
    "        w.block['FBlock'].add_log_curve(xx)"
   ]
  },
  {
   "cell_type": "code",
   "execution_count": 23,
   "metadata": {},
   "outputs": [
    {
     "data": {
      "image/png": "[encoded data removed]",
      "text/plain": [
       "<Figure size 576x720 with 1 Axes>"
      ]
     },
     "metadata": {
      "needs_background": "light"
     },
     "output_type": "display_data"
    }
   ],
   "source": [
    "w.depth_plot('P velocity', wis=wis, mask=mask)"
   ]
  },
  {
   "cell_type": "markdown",
   "metadata": {},
   "source": [
    "Save the well as a las file"
   ]
  },
  {
   "cell_type": "code",
   "execution_count": 20,
   "metadata": {},
   "outputs": [],
   "source": [
    "uio.write_las('results_folder/test.las', w.header, w.block['FBlock'].header, w.block['FBlock'].logs)"
   ]
  },
  {
   "cell_type": "code",
   "execution_count": 16,
   "metadata": {},
   "outputs": [
    {
     "data": {
      "text/plain": [
       "                name: vp_dry_sand e_fs\n",
       "                well: WELL_F\n",
       "       creation_info: Created by marten, at DESKTOP-7JFC02N, on 2020-04-17T08:03:37.873822, using version XXX\n",
       "       creation_date: 2020-04-17T08:03:37.873822\n",
       "       orig_filename: test_data/Well F.las\n",
       "   modification_date: 2020-04-17T08:03:51.461951\n",
       "modification_history: Calculated using Gassmann fluid substitution\n",
       "            log_type: P velocity\n",
       "            api_code: None\n",
       "                unit: m/s\n",
       "                desc: Fluid subsituted using following\n",
       " Mineral mixtures: Mineral mixture: WELL_F, SAND E, MyMinerals\n",
       "    quartz\n",
       "      K: 36.6, Mu: 45.0, Rho 2.65\n",
       "      Volume fraction: complement\n",
       "    shale\n",
       "      K: 11.4, Mu: 3.0, Rho 2.35\n",
       "      Volume fraction: vcl\n",
       "\n",
       "Initial fluids: Fluid mixture: initial, WELL_F, SAND E, MyFluids\n",
       "    brine\n",
       "      K: 2.8, Mu: nan, Rho 1.1\n",
       "      Volume fraction: 1.0\n",
       "\n",
       "Final fluids: Fluid mixture: final, WELL_F, SAND E, MyFluids\n",
       "    oil\n",
       "      K: 0.9, Mu: nan, Rho 0.8\n",
       "      Volume fraction: complement\n",
       "    brine\n",
       "      K: 2.8, Mu: nan, Rho 1.1\n",
       "      Volume fraction: sw\n",
       "\n"
      ]
     },
     "execution_count": 16,
     "metadata": {},
     "output_type": "execute_result"
    }
   ],
   "source": [
    "w.block['FBlock'].logs['vp_dry_sand e_fs'].header"
   ]
  },
  {
   "cell_type": "code",
   "execution_count": null,
   "metadata": {},
   "outputs": [],
   "source": []
  }
 ],
 "metadata": {
  "kernelspec": {
   "display_name": "Python 3",
   "language": "python",
   "name": "python3"
  },
  "language_info": {
   "codemirror_mode": {
    "name": "ipython",
    "version": 3
   },
   "file_extension": ".py",
   "mimetype": "text/x-python",
   "name": "python",
   "nbconvert_exporter": "python",
   "pygments_lexer": "ipython3",
   "version": "3.7.4"
  }
 },
 "nbformat": 4,
 "nbformat_minor": 2
}
