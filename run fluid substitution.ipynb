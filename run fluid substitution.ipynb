{
 "cells": [
  {
   "cell_type": "markdown",
   "metadata": {},
   "source": [
    "# Fluid substitution using Gassmann\n",
    "Necessary imports"
   ]
  },
  {
   "cell_type": "code",
   "execution_count": 1,
   "metadata": {},
   "outputs": [],
   "source": [
    "import matplotlib.pyplot as plt\n",
    "import os\n",
    "import blixt_utils.io.io as uio\n",
    "from core.well import Project, Well\n",
    "from core.minerals import MineralMix\n",
    "from core.fluids import FluidMix\n",
    "import rp.rp_core as rp\n",
    "import plotting.plot_rp as prp"
   ]
  },
  {
   "cell_type": "markdown",
   "metadata": {},
   "source": [
    "## Create a project\n",
    "The project remembers where important information is stored, and controls the logging. More details about how to set up a project is found in *Introduction to blixt_rp.ipnb*."
   ]
  },
  {
   "cell_type": "code",
   "execution_count": 3,
   "metadata": {},
   "outputs": [],
   "source": [
    "wp = Project(\n",
    "    name='FluidSub', \n",
    "    project_table='excels/project_table.xlsx')"
   ]
  },
  {
   "cell_type": "markdown",
   "metadata": {},
   "source": [
    "Note that relative path names are allowed. The project table is a .xlsx file that contain which wells and well logs to load, where to find them, and important for fluid substitution; the fluids and minerals.\n",
    "\n",
    "### Load wells\n",
    "The *Wells table* sheet of the *project_table.xlsx* holds information about which wells and well logs to use.\n",
    "<img src=\"images/Fluid substitution - wells.png\" />\n",
    "In this case, we only read in Well F, and the selected well logs that the las file *test_data/Well F.las* contains.\n",
    "\n",
    "Wells are loaded using:"
   ]
  },
  {
   "cell_type": "code",
   "execution_count": 4,
   "metadata": {},
   "outputs": [],
   "source": [
    "wells= wp.load_all_wells(block_name='FBlock')\n",
    "w = wells['WELL_F']"
   ]
  },
  {
   "cell_type": "markdown",
   "metadata": {},
   "source": [
    "The *block_name* key word is used to group the logs of *Well F*, but is not necessary to specify.\n",
    "\n",
    "### Load working intervals and templates\n",
    "The working intervals are used to define where the fluid substitution will take place, and the templates are useful for extracting kelley bushing and water depth (from the *Well settings* sheet) if they're not present in the well logs. These are loaded through:"
   ]
  },
  {
   "cell_type": "code",
   "execution_count": 5,
   "metadata": {},
   "outputs": [],
   "source": [
    "wis = uio.project_working_intervals(wp.project_table)\n",
    "templates = uio.project_templates(wp.project_table)"
   ]
  },
  {
   "cell_type": "markdown",
   "metadata": {},
   "source": [
    "### Load fluids\n",
    "The *Fluids* sheet of the *project_table.xlsx* holds information about the fluids that our fluid mixtures contains.\n",
    "<img src=\"images/Fluid substitution - fluids.png\" />\n",
    "\n",
    "Column *A* to *D* contains name, bulk and shear modolus, and density (if column *E* is set to *User specified*). \n",
    "The name of a fluid must be unique.\n",
    "If column *I*, Pressure reference, is set to zero, the reference pressure at the seafloor, the mudline, is calculated in the fluid substitution, based on the seawater column.\n",
    "\n",
    "The *Fluid mixtures* sheet uses the fluids defined above to determine how they are used in fluid substitution. \n",
    "To complete a fluid substitution, it is necessary to have defined an initial and final fluid(s) for the specific well, and for the specific working interval. If you want to run fluid substitution in other wells, and/or other working intervals, in the same run, just add similar lines specifying the fluids.\n",
    "\n",
    "<img src=\"images/Fluid substitution - fluidmixs.png\" />\n",
    "\n",
    "- *Column A*: **Use** \n",
    " - The first column determines if the fluid is be included in a substitution or not\n",
    "- *Column B*: **Substitution order** \n",
    " - The second column determines if the fluid belongs to the *Initial* or *Final* fluids.\n",
    "- *Column C*: **Well name**\n",
    " - Is the name of well, as defined in the *Wells table* sheet, this fluid is used in.  \n",
    "- *Column D*: **Interval name**\n",
    " - name of the working interval this fluid is used\n",
    "- *Column E*: **Fluid name**\n",
    " - The selected fluid, from *Fluids* sheet.\n",
    "- *Column F*: **Fluid type**\n",
    " - Select if the fluid is a Brine, Gas or Oil. This will only have any meaning if the *Calculation method* of the fluid definition (*Fluids* sheet) is set to *Batzle and Wang*.\n",
    "- *Column G*: **Volume fraction**\n",
    " - Column *G* determines which Volume fraction (saturation) to use for the fluid. Set it to the name of a well log (*SW* for the final Brine saturation in this example), or *complement* if the fluids takes up the remaining volume, or a number if a constant saturation is requested. If there are two or more fluids present in an intial or final fluid mix, one has to be set to *complement*.\n",
    "\n",
    "Load the fluids through"
   ]
  },
  {
   "cell_type": "code",
   "execution_count": 6,
   "metadata": {},
   "outputs": [
    {
     "name": "stdout",
     "output_type": "stream",
     "text": [
      "Fluid mixture: initial, WELL_F, SAND E, MyFluids\n",
      "  brine_\n",
      "      K: 2.68, Mu: nan, Rho 1.023\n",
      "      Calculation method: User specified\n",
      "      Status: from excel\n",
      "      Volume fraction: 1.0\n",
      "Fluid mixture: final, WELL_F, SAND E, MyFluids\n",
      "  default_oil\n",
      "      K: nan, Mu: nan, Rho nan\n",
      "      Calculation method: Batzle and Wang\n",
      "      Status: from excel\n",
      "      Volume fraction: complement\n",
      "  default_brine\n",
      "      K: nan, Mu: nan, Rho nan\n",
      "      Calculation method: Batzle and Wang\n",
      "      Status: from excel\n",
      "      Volume fraction: sw\n",
      "\n"
     ]
    }
   ],
   "source": [
    "myfluids = FluidMix() \n",
    "myfluids.read_excel(wp.project_table)\n",
    "print(myfluids.print_all_fluids())"
   ]
  },
  {
   "cell_type": "markdown",
   "metadata": {},
   "source": [
    "Notice that the elastic properties are all *nan* (not a number) for the *final* fluids. This is because the *Calculation method* is set to *Batzle and Wang*, and the calculation of the elastic properties of the fluids will be done later in the actual fluid substitution.\n",
    "\n",
    "The initial *Brine* (*brine_*) is *User specified*, and takes the values directly from the excel sheet."
   ]
  },
  {
   "cell_type": "markdown",
   "metadata": {},
   "source": [
    "### Load minerals\n",
    "Similarly to the fluids, the *Minerals* sheet of the *project_table.xlsx* holds information about the minerals used in the calculation of the mineral bulk modulus\n",
    "\n",
    "<img src=\"images/Fluid substitution - Minerals.png\" />\n",
    "Column *A* to *D* contains name, bulk and shear modolus, and density of minerals. \n",
    "Column *F* can be set to *Interval average* or *User specified*, empty cells are interpreted as *User specified*. \n",
    "When set to *Interval average* it uses the cutoff defined in column *G* to calculate the mineral properties for each well and working interval the minerals is used. The lognames specified in column *G*, i.e. *VCL* and *PHIE* must exist in the wells that are used for fluid substitution.\n",
    "\n",
    "The *Mineral mixtures* sheet\n",
    "\n",
    "<img src=\"images/Fluid substitution - Mineralmixs.png\" />\n",
    "\n",
    "holds information about which minerals are present in individual intervals for each well, and their volume distribution.\n",
    "Similar to the fluids above. \n",
    "Column *F* determines which Volume fraction (saturation) to use for the minerals. Set it to the name of a well log (*VCL* for the Shale in this example), or *complement* if the mineral takes up the remaining volume, or a number if a constant volume fraction is requested. \n",
    "\n",
    "Minerals for which no *Volume fraction* is specified are ignored by the system.\n",
    "\n",
    "**Note** that for a fluid substitution to run successfully, the fluid mixture and minral mixtures have to be properly set up for the same wells and working intervals in both *Fluid mixtures* and *Mineral mixtures* sheets.\n",
    "\n",
    "Load the minerals through"
   ]
  },
  {
   "cell_type": "code",
   "execution_count": 7,
   "metadata": {},
   "outputs": [
    {
     "name": "stdout",
     "output_type": "stream",
     "text": [
      "Mineral mixture: WELL_F, SAND E, MyMinerals\n",
      "    quartz\n",
      "      K: 36.6, Mu: 45.0, Rho 2.65\n",
      "      Calculation method: User specified, cutoff: None\n",
      "      Status: from excel\n",
      "      Volume fraction: complement\n",
      "    shale\n",
      "      K: 11.4, Mu: 3.0, Rho 2.35\n",
      "      Calculation method: Interval average, cutoff: VCL>0.8, PHIE<0.1\n",
      "      Status: from excel\n",
      "      Volume fraction: vcl\n",
      "\n"
     ]
    }
   ],
   "source": [
    "mymins = MineralMix() \n",
    "mymins.read_excel(wp.project_table)\n",
    "print(mymins.print_all_minerals())"
   ]
  },
  {
   "cell_type": "markdown",
   "metadata": {},
   "source": [
    "The *Shale* has the values for *K*, *Mu*, and *Rho* taken directly from the excel sheet, although we have specified it to be calculated as an *Interval average*. The calculation of the interval average will be done later in the actual fluid substitution, and the excel values are used as default values if the average calculation fails.\n",
    "\n",
    "## Fluid substitution\n",
    "Cut-offs are used to define sands, and we will restrict the fluid substitution to these"
   ]
  },
  {
   "cell_type": "code",
   "execution_count": 8,
   "metadata": {},
   "outputs": [],
   "source": [
    "cutoffs = {'Volume': ['<', 0.5], 'Porosity': ['>', 0.1]}"
   ]
  },
  {
   "cell_type": "markdown",
   "metadata": {},
   "source": [
    "We also need to specify which logs we would use as inputs to the fluid substitution"
   ]
  },
  {
   "cell_type": "code",
   "execution_count": 12,
   "metadata": {},
   "outputs": [],
   "source": [
    "log_table = {'P velocity': 'vp_dry', 'S velocity': 'vs_dry', 'Density': 'rho_dry', 'Porosity': 'phie', 'Volume': 'vcl'}"
   ]
  },
  {
   "cell_type": "markdown",
   "metadata": {},
   "source": [
    "The rest of the work (calculating initial and final fluid properties, mineral properties, etc.), and the gassmann fluid substitution, is handled by the following function"
   ]
  },
  {
   "cell_type": "code",
   "execution_count": 13,
   "metadata": {},
   "outputs": [
    {
     "name": "stdout",
     "output_type": "stream",
     "text": [
      "WARNING: No True Vertical Depth log in WELL_F, using MD\n",
      "INFO: Extract water depth in well WELL_F from templates\n",
      "INFO: Extract kb in well WELL_F from templates\n",
      "WARNING: No True Vertical Depth log in WELL_F, using MD\n",
      "INFO: Extract water depth in well WELL_F from templates\n",
      "INFO: Extract kb in well WELL_F from templates\n",
      "INFO: Starting Gassmann fluid substitution on well WELL_F\n",
      "Calculating Voigt-Reuss-Hill bound of k for well WELL_F in interval SAND E\n",
      "  quartz    K: 36.6, Mu: 45.0, Rho 2.65\n",
      "    Volume fraction: complement\n",
      "  shale    K: 22.337340368891446, Mu: 11.096107785059152, Rho 2.5890000000000004\n",
      "    Volume fraction: vcl\n",
      "\n",
      " Mineral k: quartz, volume frac: complement\n",
      " Mineral k: shale, volume frac: vcl\n",
      "Calculating Voigt bound of rho for well WELL_F in interval SAND E\n",
      "  brine_    K: 2.68, Mu: nan, Rho 1.023\n",
      "    Volume fraction: 1.0\n",
      "\n",
      " Fluid rho: brine_, volume frac: 1.0\n",
      "Calculating Reuss bound of k for well WELL_F in interval SAND E\n",
      "  brine_    K: 2.68, Mu: nan, Rho 1.023\n",
      "    Volume fraction: 1.0\n",
      "\n",
      " Fluid k: brine_, volume frac: 1.0\n",
      "Calculating Voigt bound of rho for well WELL_F in interval SAND E\n",
      "  default_oil    K: 1.5533828089698474, Mu: nan, Rho 0.8582013813259998\n",
      "    Volume fraction: complement\n",
      "  default_brine    K: 2.8237630251145958, Mu: nan, Rho 1.0408996029487814\n",
      "    Volume fraction: sw\n",
      "\n",
      " Fluid rho: default_oil, volume frac: complement\n",
      " Fluid rho: default_brine, volume frac: sw\n",
      "Calculating Reuss bound of k for well WELL_F in interval SAND E\n",
      "  default_oil    K: 1.5533828089698474, Mu: nan, Rho 0.8582013813259998\n",
      "    Volume fraction: complement\n",
      "  default_brine    K: 2.8237630251145958, Mu: nan, Rho 1.0408996029487814\n",
      "    Volume fraction: sw\n",
      "\n",
      " Fluid k: default_oil, volume frac: complement\n",
      " Fluid k: default_brine, volume frac: sw\n"
     ]
    }
   ],
   "source": [
    "tag = 'fs'  # tag the resulting logs after fluid substitution\n",
    "rp.run_fluid_sub(wells, log_table, mymins, myfluids, cutoffs, wis, tag, templates=templates, block_name='FBlock')"
   ]
  },
  {
   "cell_type": "markdown",
   "metadata": {},
   "source": [
    "### Plotting the results\n",
    "First plot the original input logs, then replot using the newly created fluid substituted logs, and then replot again using the loaded example from an earlier fluid substitution results (from RokDoc) that was saved to the las file. "
   ]
  },
  {
   "cell_type": "code",
   "execution_count": 15,
   "metadata": {},
   "outputs": [
    {
     "name": "stdout",
     "output_type": "stream",
     "text": [
      "Plotting well WELL_F\n",
      "Plotting well WELL_F\n",
      "Plotting well WELL_F\n"
     ]
    },
    {
     "data": {
      "image/png": "[encoded data removed]",
      "text/plain": [
       "<Figure size 720x576 with 1 Axes>"
      ]
     },
     "metadata": {
      "needs_background": "light"
     },
     "output_type": "display_data"
    }
   ],
   "source": [
    "fig, ax = plt.subplots(figsize=(10,8))\n",
    "log_table = {'P velocity': 'vp_dry', 'S velocity': 'vs_dry', 'Density': 'rho_dry', 'Porosity': 'phie', 'Volume': 'vcl'}\n",
    "templates['WELL_F']['color'] = 'b'\n",
    "prp.plot_rp(wells, log_table, wis, 'SAND E', cutoffs, templates, fig=fig, ax=ax, edge_color=False, show_masked=True, block_name='FBlock')\n",
    "\n",
    "# specify the new logs coming from the fluid substitution\n",
    "log_table = {'P velocity': 'vp_dry_fs', 'S velocity': 'vs_dry_fs', 'Density': 'rho_dry_fs', 'Porosity': 'phie', 'Volume': 'vcl'}\n",
    "templates['WELL_F']['color'] = 'r'\n",
    "prp.plot_rp(wells, log_table, wis, 'SAND E', cutoffs, templates, fig=fig, ax=ax, edge_color=False, block_name='FBlock')\n",
    "\n",
    "# specify the new logs coming from the RokDoc fluid substitution stored in the las file\n",
    "log_table = {'P velocity': 'vp_so08', 'S velocity': 'vs_so08', 'Density': 'rho_so08', 'Porosity': 'phie', 'Volume': 'vcl'}\n",
    "templates['WELL_F']['color'] = 'g'\n",
    "prp.plot_rp(wells, log_table, wis, 'SAND E', cutoffs, templates, fig=fig, ax=ax, edge_color=False, block_name='FBlock')"
   ]
  },
  {
   "cell_type": "markdown",
   "metadata": {},
   "source": [
    "The grayed out points are the shales within *SAND E* working interval, and the blue markers are the initial values.\n",
    "Red markers are the current fluid substitution, while the green are from an earlier fluidsubstitution in RokDoc. As can be seen does the current fluid substitution produce similar results as RocDoc.\n",
    "\n",
    "### Saving the results\n",
    "Save the well as a las file"
   ]
  },
  {
   "cell_type": "code",
   "execution_count": 14,
   "metadata": {},
   "outputs": [],
   "source": [
    "for well in wells.values():\n",
    "    uio.write_las(\n",
    "        os.path.join(wp.working_dir, 'results_folder', '{}.las'.format(well.well)),\n",
    "        well.header,\n",
    "        well.block['FBlock'].header,\n",
    "        well.block['FBlock'].logs\n",
    "    )"
   ]
  },
  {
   "cell_type": "code",
   "execution_count": 15,
   "metadata": {},
   "outputs": [
    {
     "data": {
      "text/plain": [
       "                name: vp_dry_fs\n",
       "                well: WELL_F\n",
       "       creation_info: Created by mblixt, at NO-OSVM-WKS153, on 2020-05-26T10:18:30.348939, using version 0.1.1\n",
       "       creation_date: 2020-05-26T10:18:30.348939\n",
       "       orig_filename: test_data/Well F.las\n",
       "   modification_date: 2020-05-26T10:18:42.320910\n",
       "modification_history: Calculated using Gassmann fluid substitution using following\n",
       "Mineral mixtures: Mineral mixture: WELL_F, SAND E, MyMinerals\n",
       "    quartz\n",
       "      K: 36.6, Mu: 45.0, Rho 2.65\n",
       "      Calculation method: User specified, cutoff: None\n",
       "      Status: from excel\n",
       "      Volume fraction: complement\n",
       "    shale\n",
       "      K: 22.337340368891446, Mu: 11.096107785059152, Rho 2.5890000000000004\n",
       "      Calculation method: Interval average, cutoff: VCL>0.8, PHIE<0.1\n",
       "      Status: calculated from interval average\n",
       "      Volume fraction: vcl\n",
       "\n",
       "Initial fluids: Fluid mixture: initial, WELL_F, SAND E, MyFluids\n",
       "  brine_\n",
       "      K: 2.68, Mu: nan, Rho 1.023\n",
       "      Calculation method: User specified\n",
       "      Status: from excel\n",
       "      Volume fraction: 1.0\n",
       "\n",
       "Final fluids: Fluid mixture: final, WELL_F, SAND E, MyFluids\n",
       "  default_oil\n",
       "      K: 1.553185621659148, Mu: nan, Rho 0.8581849409835586\n",
       "      Calculation method: Batzle and Wang\n",
       "      Status: calculated using Batzle and Wang at burial depth 1807.01\n",
       "      Volume fraction: complement\n",
       "  default_brine\n",
       "      K: 2.8238580338485293, Mu: nan, Rho 1.0408898840500418\n",
       "      Calculation method: Batzle and Wang\n",
       "      Status: calculated using Batzle and Wang at burial depth 1807.01\n",
       "      Volume fraction: sw\n",
       "\n",
       "\n",
       "            log_type: P velocity\n",
       "            api_code: None\n",
       "                unit: m/s\n",
       "                desc: Fluid substituted vp_dry"
      ]
     },
     "execution_count": 15,
     "metadata": {},
     "output_type": "execute_result"
    }
   ],
   "source": [
    "w.block['FBlock'].logs['vp_dry_fs'].header"
   ]
  },
  {
   "cell_type": "code",
   "execution_count": null,
   "metadata": {},
   "outputs": [],
   "source": []
  }
 ],
 "metadata": {
  "kernelspec": {
   "display_name": "Python 3",
   "language": "python",
   "name": "python3"
  },
  "language_info": {
   "codemirror_mode": {
    "name": "ipython",
    "version": 3
   },
   "file_extension": ".py",
   "mimetype": "text/x-python",
   "name": "python",
   "nbconvert_exporter": "python",
   "pygments_lexer": "ipython3",
   "version": "3.7.8"
  }
 },
 "nbformat": 4,
 "nbformat_minor": 4
}
