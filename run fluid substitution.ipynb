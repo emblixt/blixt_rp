{
 "cells": [
  {
   "cell_type": "markdown",
   "metadata": {},
   "source": [
    "# Fluid substitution using Gassmann\n",
    "Necessary imports"
   ]
  },
  {
   "cell_type": "code",
   "execution_count": 14,
   "metadata": {},
   "outputs": [],
   "source": [
    "import matplotlib.pyplot as plt\n",
    "from copy import deepcopy\n",
    "import utils.io as uio\n",
    "from core.well import Project, Well\n",
    "from core.minerals import MineralMix\n",
    "from core.fluids import FluidMix\n",
    "import rp.rp_core as rp\n",
    "import plotting.plot_rp as prp"
   ]
  },
  {
   "cell_type": "markdown",
   "metadata": {},
   "source": [
    "## Create a project\n",
    "The project remembers where important information is stored, and controls the logging. More details about how to set up a project is found in *Introduction to blixt_rp.ipnb*."
   ]
  },
  {
   "cell_type": "code",
   "execution_count": 2,
   "metadata": {},
   "outputs": [],
   "source": [
    "wp = Project(\n",
    "    name='FluidSub', \n",
    "    project_table='excels/project_table.xlsx')"
   ]
  },
  {
   "cell_type": "markdown",
   "metadata": {},
   "source": [
    "Note that relative path names are allowed. The project table is a .xlsx file that contain which wells and well logs to load, where to find them, and important for fluid substitution; the fluids and minerals.\n",
    "\n",
    "### Load wells\n",
    "The *Wells table* sheet of the *project_table.xlsx* holds information about which wells and well logs to use.\n",
    "<img src=\"images/Fluid substitution - wells.png\" />\n",
    "In this case, we only read in Well F, and the selected well logs that the las file *test_data/Well F.las* contains.\n",
    "\n",
    "Wells are loaded using:"
   ]
  },
  {
   "cell_type": "code",
   "execution_count": 3,
   "metadata": {},
   "outputs": [
    {
     "name": "stdout",
     "output_type": "stream",
     "text": [
      "0 WELL_F test_data/Well F.las\n"
     ]
    }
   ],
   "source": [
    "wells= wp.load_all_wells(block_name='FBlock')\n",
    "w = wells['WELL_F']"
   ]
  },
  {
   "cell_type": "markdown",
   "metadata": {},
   "source": [
    "The *block_name* key word is used to group the logs of *Well F*, but is not necessary to specify.\n",
    "\n",
    "### Load working intervals and templates\n",
    "The working intervals are used to define where the fluid substitution will take place, and are loaded through:"
   ]
  },
  {
   "cell_type": "code",
   "execution_count": 15,
   "metadata": {},
   "outputs": [],
   "source": [
    "wis = uio.project_working_intervals(wp.project_table)\n",
    "templates = uio.project_templates(wp.project_table)"
   ]
  },
  {
   "cell_type": "markdown",
   "metadata": {},
   "source": [
    "### Load fluids\n",
    "The *Fluids* sheet of the *project_table.xlsx* holds information about the fluids that our fluid mixtures contains.\n",
    "<img src=\"images/Fluid substitution - fluids.png\" />\n",
    "\n",
    "Column *A* to *D* contains name, bulk and shear modolus, and density (if column *E* is set to *User specified*). \n",
    "The name of a fluid must be unique.\n",
    "The option to use Batzle and Wang method to calculate the elastic fluid properties is still not fully implemented, so the *Default* fluid in this example is ignored by the system right now.\n",
    "\n",
    "The *Fluid mixtures* sheet uses the fluids defined above to determine how they are used in fluid substitution. \n",
    "To complete a fluid substitution, it is necessary to have defined an initial and final fluid(s) for the specific well, and for the specific working interval. If you want to run fluid substitution in other wells, and/or other working intervals, in the same run, just add similar lines specifying the fluids.\n",
    "\n",
    "<img src=\"images/Fluid substitution - fluidmixs.png\" />\n",
    "\n",
    "- *Column A*: **Use** \n",
    " - The first column determines if the fluid is be included in a substitution or not\n",
    "- *Column B*: **Substitution order** \n",
    " - The second column determines if the fluid belongs to the *Initial* or *Final* fluids.\n",
    "- *Column C*: **Well name**\n",
    " - Is the name of well, as defined in the *Wells table* sheet, this fluid is used in.  \n",
    "- *Column D*: **Interval name**\n",
    " - name of the working interval this fluid is used\n",
    "- *Column E*: **Fluid name**\n",
    " - The selected fluid, from *Fluids* sheet.\n",
    "- *Column F*: **Fluid type**\n",
    " - Select if the fluid is a Brine, Gas or Oil. This will only have any meaning if the *Calculation method* of the fluid definition (*Fluids* sheet) is set to *Batzle and Wang*.\n",
    "- *Column G*: **Volume fraction**\n",
    " - Column *G* determines which Volume fraction (saturation) to use for the fluid. Set it to the name of a well log (*SW* for the final Brine saturation in this example), or *complement* if the fluids takes up the remaining volume, or a number if a constant saturation is requested. If there are two or more fluids present in an intial or final fluid mix, one has to be set to *complement*.\n",
    "\n",
    "Load the fluids through"
   ]
  },
  {
   "cell_type": "code",
   "execution_count": 5,
   "metadata": {},
   "outputs": [
    {
     "name": "stdout",
     "output_type": "stream",
     "text": [
      "{'initial': {'WELL_F': {'SAND E': {'default_brine': <core.fluids.Fluid object at 0x0000023ACF00EB08>}}}, 'final': {'WELL_F': {'SAND E': {'default_oil': <core.fluids.Fluid object at 0x0000023ACF00B1C8>, 'default_brine': <core.fluids.Fluid object at 0x0000023ACF00CC88>}}}}\n"
     ]
    }
   ],
   "source": [
    "myfluids = FluidMix() \n",
    "myfluids.read_excel(wp.project_table)\n",
    "print(myfluids.fluids)"
   ]
  },
  {
   "cell_type": "markdown",
   "metadata": {},
   "source": [
    "### Load minerals\n",
    "Similarly to the fluids, the *Minerals* sheet of the *project_table.xlsx* holds information about the minerals used in the calculation of the mineral bulk modulus\n",
    "<img src=\"images/Fluid substitution - Minerals.png\" />\n",
    "Column *A* to *D* contains name, bulk and shear modolus, and density of minerals. \n",
    "\n",
    "The *Mineral mixtures* sheet \n",
    "<img src=\"images/Fluid substitution - Mineralmixs.png\" />\n",
    "\n",
    "holds information about which minerals are present in individual intervals for each well, and their volume distribution.\n",
    "Similar to the fluids above. \n",
    "Column *F* determines which Volume fraction (saturation) to use for the minerals. Set it to the name of a well log (*VCL* for the Shale in this example), or *complement* if the mineral takes up the remaining volume, or a number if a constant volume fraction is requested. \n",
    "\n",
    "Minerals for which no *Volume fraction* is specified are ignored by the system.\n",
    "\n",
    "**Note** that for a fluid substitution to run successfully, the fluid mixture and minral mixtures have to be properly set up in the same working intervals for the same wells in both *Fluid mixtures* and *Mineral mixtures* sheets.\n",
    "\n",
    "Load the minerals through"
   ]
  },
  {
   "cell_type": "code",
   "execution_count": 6,
   "metadata": {},
   "outputs": [
    {
     "name": "stdout",
     "output_type": "stream",
     "text": [
      "Mineral mixture: MyMinerals\n",
      " - Well WELL_F\n",
      "  + Working interval SAND E\n",
      "    quartz\n",
      "      K: 36.6, Mu: 45.0, Rho 2.65\n",
      "      Volume fraction: complement\n",
      "    shale\n",
      "      K: 11.4, Mu: 3.0, Rho 2.35\n",
      "      Volume fraction: vcl\n",
      " - Well WELL_A\n",
      "  + Working interval SAND E\n",
      "    quartz\n",
      "      K: 36.6, Mu: 45.0, Rho 2.65\n",
      "      Volume fraction: complement\n",
      "    shale\n",
      "      K: 11.4, Mu: 3.0, Rho 2.35\n",
      "      Volume fraction: vcl\n",
      " - Well WELL_B\n",
      "  + Working interval SAND E\n",
      "    quartz\n",
      "      K: 36.6, Mu: 45.0, Rho 2.65\n",
      "      Volume fraction: complement\n",
      "    shale\n",
      "      K: 11.4, Mu: 3.0, Rho 2.35\n",
      "      Volume fraction: vcl\n",
      " - Well WELL_C\n",
      "  + Working interval SAND E\n",
      "    quartz\n",
      "      K: 36.6, Mu: 45.0, Rho 2.65\n",
      "      Volume fraction: complement\n",
      "    shale\n",
      "      K: 11.4, Mu: 3.0, Rho 2.35\n",
      "      Volume fraction: vcl\n",
      "\n"
     ]
    }
   ],
   "source": [
    "mymins = MineralMix() \n",
    "mymins.read_excel(wp.project_table)\n",
    "print(mymins)"
   ]
  },
  {
   "cell_type": "markdown",
   "metadata": {},
   "source": [
    "## Fluid substitution\n",
    "Cut-offs are used to define sands, and we will restrict the fluid substitution to these"
   ]
  },
  {
   "cell_type": "code",
   "execution_count": 7,
   "metadata": {},
   "outputs": [],
   "source": [
    "cutoffs = {'Volume': ['<', 0.5], 'Porosity': ['>', 0.1]}"
   ]
  },
  {
   "cell_type": "markdown",
   "metadata": {},
   "source": [
    "We also need to specify which logs we would use as inputs to the fluid substitution"
   ]
  },
  {
   "cell_type": "code",
   "execution_count": 10,
   "metadata": {},
   "outputs": [],
   "source": [
    "log_table = {'P velocity': 'vp_dry', 'S velocity': 'vs_dry', 'Density': 'rho_dry', 'Porosity': 'phie', 'Volume': 'vsh'}"
   ]
  },
  {
   "cell_type": "markdown",
   "metadata": {},
   "source": [
    "The rest of the work (calculating initial and final fluid properties, mineral properties, etc.), and the gassmann fluid substitution, is handled by the following function"
   ]
  },
  {
   "cell_type": "code",
   "execution_count": 11,
   "metadata": {},
   "outputs": [
    {
     "name": "stdout",
     "output_type": "stream",
     "text": [
      "INFO: Starting Gassmann fluid substitution on well WELL_F\n",
      "Calculating Voigt-Reuss-Hill bound of k for well WELL_F in interval SAND E\n",
      "  quartz    K: 36.6, Mu: 45.0, Rho 2.65\n",
      "    Volume fraction: complement\n",
      "  shale    K: 11.4, Mu: 3.0, Rho 2.35\n",
      "    Volume fraction: vcl\n",
      "\n",
      " Mineral k: quartz, volume frac: complement\n",
      " Mineral k: shale, volume frac: vcl\n",
      "Calculating Voigt bound of rho for well WELL_F in interval SAND E\n",
      "  default_brine    K: 2.8258639232628227, Mu: nan, Rho 1.036827908414038\n",
      "    Volume fraction: 1.0\n",
      "\n",
      " Fluid rho: default_brine, volume frac: 1.0\n",
      "Calculating Reuss bound of k for well WELL_F in interval SAND E\n",
      "  default_brine    K: 2.8258639232628227, Mu: nan, Rho 1.036827908414038\n",
      "    Volume fraction: 1.0\n",
      "\n",
      " Fluid k: default_brine, volume frac: 1.0\n",
      "Calculating Voigt bound of rho for well WELL_F in interval SAND E\n",
      "  default_oil    K: 1.4599133119717211, Mu: nan, Rho 0.8517719208816055\n",
      "    Volume fraction: complement\n",
      "  default_brine    K: 2.8258639232628227, Mu: nan, Rho 1.036827908414038\n",
      "    Volume fraction: sw\n",
      "\n",
      " Fluid rho: default_oil, volume frac: complement\n",
      " Fluid rho: default_brine, volume frac: sw\n",
      "Calculating Reuss bound of k for well WELL_F in interval SAND E\n",
      "  default_oil    K: 1.4599133119717211, Mu: nan, Rho 0.8517719208816055\n",
      "    Volume fraction: complement\n",
      "  default_brine    K: 2.8258639232628227, Mu: nan, Rho 1.036827908414038\n",
      "    Volume fraction: sw\n",
      "\n",
      " Fluid k: default_oil, volume frac: complement\n",
      " Fluid k: default_brine, volume frac: sw\n",
      "WORKING INTERVAL (USING MD INSTEAD OF TVD) SAND E\n"
     ]
    },
    {
     "name": "stderr",
     "output_type": "stream",
     "text": [
      "C:\\Users\\marten\\PycharmProjects\\blixt_rp\\rp\\rp_core.py:655: RuntimeWarning: invalid value encountered in less\n",
      "  por[por < 7E-3] = 7E-3\n",
      "C:\\Users\\marten\\PycharmProjects\\blixt_rp\\rp\\rp_core.py:674: RuntimeWarning: invalid value encountered in sqrt\n",
      "  v_p_2 = np.sqrt((k_2+(4/3)*mu_2) / rho_2) * 1E3  # m/s\n"
     ]
    }
   ],
   "source": [
    "tag = 'fs'  # tag the resulting logs after fluid substitution\n",
    "rp.run_fluid_sub(wells, log_table, mymins, myfluids, cutoffs, wis, tag, block_name='FBlock')"
   ]
  },
  {
   "cell_type": "markdown",
   "metadata": {},
   "source": [
    "### Plotting the results\n",
    "First plot the original input logs, then replot using the newly created fluid substituted logs, and then replot again using the loaded example from an earlier fluid substitution results (from RokDoc) that was saved to the las file. "
   ]
  },
  {
   "cell_type": "code",
   "execution_count": 24,
   "metadata": {},
   "outputs": [
    {
     "name": "stdout",
     "output_type": "stream",
     "text": [
      "Plotting well WELL_F\n",
      "Plotting well WELL_F\n",
      "Plotting well WELL_F\n"
     ]
    },
    {
     "data": {
      "image/png": "[encoded data removed]",
      "text/plain": [
       "<Figure size 720x576 with 1 Axes>"
      ]
     },
     "metadata": {
      "needs_background": "light"
     },
     "output_type": "display_data"
    }
   ],
   "source": [
    "fig, ax = plt.subplots(figsize=(10,8))\n",
    "log_table = {'P velocity': 'vp_dry', 'S velocity': 'vs_dry', 'Density': 'rho_dry'}\n",
    "templates['WELL_F']['color'] = 'b'\n",
    "prp.plot_rp(wells, log_table, wis, 'SAND E', cutoffs, templates, fig=fig, ax=ax, edge_color=False, show_masked=True, block_name='FBlock')\n",
    "\n",
    "# specify the new logs coming from the fluid substitution\n",
    "log_table = {'P velocity': 'vp_dry_fs', 'S velocity': 'vs_dry_fs', 'Density': 'rho_dry_fs'}\n",
    "templates['WELL_F']['color'] = 'r'\n",
    "prp.plot_rp(wells, log_table, wis, 'SAND E', cutoffs, templates, fig=fig, ax=ax, edge_color=False, block_name='FBlock')\n",
    "\n",
    "# specify the new logs coming from the RokDoc fluid substitution stored in the las file\n",
    "log_table = {'P velocity': 'vp_so08', 'S velocity': 'vs_so08', 'Density': 'rho_so08'}\n",
    "templates['WELL_F']['color'] = 'g'\n",
    "prp.plot_rp(wells, log_table, wis, 'SAND E', cutoffs, templates, fig=fig, ax=ax, edge_color=False, block_name='FBlock')"
   ]
  },
  {
   "cell_type": "markdown",
   "metadata": {},
   "source": [
    "The grayed out points are the shales within *SAND E* working interval, and the blue markers are the initial values.\n",
    "Red markers are the current fluid substitution, while the green are from an earlier fluidsubstitution in RokDoc. As can be seen does the current fluid substitution produce similar results as RocDoc.\n",
    "\n",
    "### Saving the results\n",
    "Save the well as a las file"
   ]
  },
  {
   "cell_type": "code",
   "execution_count": 26,
   "metadata": {},
   "outputs": [],
   "source": [
    "uio.write_las('results_folder/test.las', w.header, w.block['FBlock'].header, w.block['FBlock'].logs)"
   ]
  },
  {
   "cell_type": "code",
   "execution_count": 27,
   "metadata": {},
   "outputs": [
    {
     "data": {
      "text/plain": [
       "                name: vp_dry_fs\n",
       "                well: WELL_F\n",
       "       creation_info: Created by marten, at DESKTOP-7JFC02N, on 2020-05-18T06:55:17.848631, using version XXX\n",
       "       creation_date: 2020-05-18T06:55:17.848631\n",
       "       orig_filename: test_data/Well F.las\n",
       "   modification_date: 2020-05-18T07:06:39.543094\n",
       "modification_history: Calculated using Gassmann fluid substitution using following\n",
       "Mineral mixtures: Mineral mixture: WELL_F, SAND E, MyMinerals\n",
       "    quartz\n",
       "      K: 36.6, Mu: 45.0, Rho 2.65\n",
       "      Volume fraction: complement\n",
       "    shale\n",
       "      K: 11.4, Mu: 3.0, Rho 2.35\n",
       "      Volume fraction: vcl\n",
       "\n",
       "Initial fluids: Fluid mixture: initial, WELL_F, SAND E, MyFluids at TVD: 1931.0 m\n",
       "  default_brine\n",
       "      K: 2.8258639232628227, Mu: nan, Rho 1.036827908414038\n",
       "      Volume fraction: 1.0\n",
       "      Calculation method: Batzle and Wang\n",
       "\n",
       "Final fluids: Fluid mixture: final, WELL_F, SAND E, MyFluids at TVD: 1931.0 m\n",
       "  default_oil\n",
       "      K: 1.4599133119717211, Mu: nan, Rho 0.8517719208816055\n",
       "      Volume fraction: complement\n",
       "      Calculation method: Batzle and Wang\n",
       "  default_brine\n",
       "      K: 2.8258639232628227, Mu: nan, Rho 1.036827908414038\n",
       "      Volume fraction: sw\n",
       "      Calculation method: Batzle and Wang\n",
       "\n",
       "\n",
       "            log_type: P velocity\n",
       "            api_code: None\n",
       "                unit: m/s\n",
       "                desc: Fluid substituted vp_dry"
      ]
     },
     "execution_count": 27,
     "metadata": {},
     "output_type": "execute_result"
    }
   ],
   "source": [
    "w.block['FBlock'].logs['vp_dry_fs'].header"
   ]
  },
  {
   "cell_type": "code",
   "execution_count": null,
   "metadata": {},
   "outputs": [],
   "source": []
  }
 ],
 "metadata": {
  "kernelspec": {
   "display_name": "Python 3",
   "language": "python",
   "name": "python3"
  },
  "language_info": {
   "codemirror_mode": {
    "name": "ipython",
    "version": 3
   },
   "file_extension": ".py",
   "mimetype": "text/x-python",
   "name": "python",
   "nbconvert_exporter": "python",
   "pygments_lexer": "ipython3",
   "version": "3.7.4"
  }
 },
 "nbformat": 4,
 "nbformat_minor": 2
}
