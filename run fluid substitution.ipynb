{
 "cells": [
  {
   "cell_type": "markdown",
   "metadata": {},
   "source": [
    "# Fluid substitution using Gassmann\n",
    "Necessary imports"
   ]
  },
  {
   "cell_type": "code",
   "execution_count": 3,
   "metadata": {},
   "outputs": [],
   "source": [
    "import matplotlib.pyplot as plt\n",
    "import os\n",
    "import sys\n",
    "\n",
    "working_dir = 'C:\\\\Users\\\\marten\\\\PycharmProjects\\\\blixt_rp'\n",
    "sys.path.append(working_dir)\n",
    "\n",
    "#the following two lines are only necessary when working with development versions of the code\n",
    "sys.path.append('C:\\\\Users\\\\marten\\\\PycharmProjects\\\\blixt_rp')\n",
    "sys.path.append('C:\\\\Users\\\\marten\\\\PycharmProjects\\\\blixt_utils')\n",
    "\n",
    "import blixt_utils.io.io as uio\n",
    "from blixt_rp.core.well import Project, Well\n",
    "from blixt_rp.core.minerals import MineralMix\n",
    "from blixt_rp.core.fluids import FluidMix\n",
    "import blixt_rp.rp.rp_core as rp\n",
    "import blixt_rp.plotting.plot_rp as prp"
   ]
  },
  {
   "cell_type": "markdown",
   "metadata": {},
   "source": [
    "## Open a project\n",
    "The project remembers where important information is stored, and controls the logging. More details about how to set up a project is found in *Introduction to blixt_rp.ipnb*. Now we use the local *MyProject.py* script, and use the shortcut defined there in *init()* to open an existing project, and load all wells, templates and working intervals.\n",
    "\n",
    "We are focusing on *Well_F* in this notebook, so it is necessary to make sure it is enabled in the project table:\n",
    "\n",
    "<img src=\"images/Fluid substitution - wells.png\" />"
   ]
  },
  {
   "cell_type": "code",
   "execution_count": 9,
   "metadata": {},
   "outputs": [],
   "source": [
    "import MyProject as mp\n",
    "wp, wells, templates, wis = mp.init(working_dir, new=False)\n",
    "w = wells['WELL_F']"
   ]
  },
  {
   "cell_type": "markdown",
   "metadata": {},
   "source": [
    "### Load fluids\n",
    "The *Fluids* sheet of the *project_table.xlsx* holds information about the fluids that our fluid mixtures contains.\n",
    "\n",
    "<img src=\"images/Fluid substitution - fluids.png\" />\n",
    "\n",
    "Column *A* to *D* contains name, bulk and shear modolus, and density (if column *E* is set to *User specified*). \n",
    "The name of a fluid must be unique.\n",
    "If column *I*, Pressure reference, is set to zero, the reference pressure at the seafloor (the mudline) is calculated in using the seawater column.\n",
    "\n",
    "The *Fluid mixtures* sheet uses the fluids defined above to determine how they are used in fluid substitution. \n",
    "To complete a fluid substitution, it is necessary to have defined initial and final fluid(s) for the specific well, and for the specific working interval. If you want to run fluid substitution in other wells, and/or other working intervals, in the same run, just add similar lines specifying the fluids.\n",
    "\n",
    "<img src=\"images/Fluid substitution - fluidmixs.png\" />\n",
    "\n",
    "- *Column A*: **Use** \n",
    " - The first column determines if the fluid is be included in a substitution or not\n",
    "- *Column B*: **Substitution order** \n",
    " - The second column determines if the fluid belongs to the *Initial* or *Final* fluids.\n",
    "- *Column C*: **Well name**\n",
    " - Is the name of well, as defined in the *Wells table* sheet, this fluid is used in.  \n",
    "- *Column D*: **Interval name**\n",
    " - name of the working interval this fluid is used\n",
    "- *Column E*: **Fluid name**\n",
    " - The selected fluid, from *Fluids* sheet.\n",
    "- *Column F*: **Fluid type**\n",
    " - Select if the fluid is a Brine, Gas or Oil. This will only have any meaning if the *Calculation method* of the fluid definition (*Fluids* sheet) is set to *Batzle and Wang*.\n",
    "- *Column G*: **Volume fraction**\n",
    " - Column *G* determines which Volume fraction (saturation) to use for the fluid. Set it to the name of a well log (*SW* for the final Brine saturation in this example), or *complement* if the fluids takes up the remaining volume, or a number if a constant saturation is requested. If there are two or more fluids present in an intial or final fluid mix, one has to be set to *complement*.\n",
    "\n",
    "Load the fluids through"
   ]
  },
  {
   "cell_type": "code",
   "execution_count": 10,
   "metadata": {},
   "outputs": [
    {
     "name": "stdout",
     "output_type": "stream",
     "text": [
      "Fluid mixture: initial, WELL_F, SAND E, MyFluids\n",
      "  brine_\n",
      "      K: 2.68, Mu: nan, Rho 1.023\n",
      "      Calculation method: User specified\n",
      "      Status: from excel\n",
      "      Volume fraction: 1.0\n",
      "Fluid mixture: final, WELL_F, SAND E, MyFluids\n",
      "  default_oil\n",
      "      K: nan, Mu: nan, Rho nan\n",
      "      Calculation method: Batzle and Wang\n",
      "      Status: from excel\n",
      "      Volume fraction: complement\n",
      "  default_brine\n",
      "      K: nan, Mu: nan, Rho nan\n",
      "      Calculation method: Batzle and Wang\n",
      "      Status: from excel\n",
      "      Volume fraction: sw\n",
      "\n"
     ]
    }
   ],
   "source": [
    "myfluids = FluidMix() \n",
    "myfluids.read_excel(wp.project_table)\n",
    "print(myfluids.print_all_fluids())"
   ]
  },
  {
   "cell_type": "markdown",
   "metadata": {},
   "source": [
    "Notice that the elastic properties are all *nan* (not a number) for the *final* fluids. This is because the *Calculation method* is set to *Batzle and Wang*, and the calculation of the elastic properties of the fluids will be done later in the actual fluid substitution.\n",
    "\n",
    "The initial *Brine* (*brine_*) is *User specified*, and takes the values directly from the excel sheet."
   ]
  },
  {
   "cell_type": "markdown",
   "metadata": {},
   "source": [
    "### Load minerals\n",
    "Similarly to the fluids, the *Minerals* sheet of the *project_table.xlsx* holds information about the minerals used in the calculation of the mineral bulk modulus\n",
    "\n",
    "<img src=\"images/Fluid substitution - Minerals.png\" />\n",
    "Column *A* to *D* contains name, bulk and shear modolus, and density of minerals. \n",
    "Column *F* can be set to *Interval average* or *User specified*, empty cells are interpreted as *User specified*. \n",
    "When set to *Interval average* it uses the cutoff defined in column *G* to calculate the mineral properties for each well and working interval the minerals is used. The lognames specified in column *G*, i.e. *VCL* and *PHIE* must exist in the wells that are used for fluid substitution.\n",
    "\n",
    "The *Mineral mixtures* sheet\n",
    "\n",
    "<img src=\"images/Fluid substitution - Mineralmixs.png\" />\n",
    "\n",
    "holds information about which minerals are present in individual intervals for each well, and their volume distribution.\n",
    "Similar to the fluids above. \n",
    "Column *F* determines which Volume fraction (saturation) to use for the minerals. Set it to the name of a well log (*VCL* for the Shale in this example), or *complement* if the mineral takes up the remaining volume, or a number if a constant volume fraction is requested. \n",
    "\n",
    "Minerals for which no *Volume fraction* is specified are ignored by the system.\n",
    "\n",
    "**Note** that for a fluid substitution to run successfully, the fluid mixture and minral mixtures have to be properly set up for the same wells and working intervals in both *Fluid mixtures* and *Mineral mixtures* sheets.\n",
    "\n",
    "Load the minerals through"
   ]
  },
  {
   "cell_type": "code",
   "execution_count": 11,
   "metadata": {},
   "outputs": [
    {
     "name": "stdout",
     "output_type": "stream",
     "text": [
      "Mineral mixture: WELL_F, SAND E, MyMinerals\n",
      "    quartz\n",
      "      K: 36.6, Mu: 45.0, Rho 2.65\n",
      "      Calculation method: User specified, cutoff: None\n",
      "      Status: from excel\n",
      "      Volume fraction: complement\n",
      "    shale\n",
      "      K: 11.4, Mu: 3.0, Rho 2.35\n",
      "      Calculation method: Interval average, cutoff: VCL>0.8, PHIE<0.1\n",
      "      Status: from excel\n",
      "      Volume fraction: vcl\n",
      "\n"
     ]
    }
   ],
   "source": [
    "mymins = MineralMix() \n",
    "mymins.read_excel(wp.project_table)\n",
    "print(mymins.print_all_minerals())"
   ]
  },
  {
   "cell_type": "markdown",
   "metadata": {},
   "source": [
    "The *Shale* has the values for *K*, *Mu*, and *Rho* taken directly from the excel sheet, although we have specified it to be calculated as an *Interval average*. The calculation of the interval average will be done later in the actual fluid substitution, and the excel values are used as default values if the average calculation fails.\n",
    "\n",
    "## Fluid substitution\n",
    "Cut-offs are used to define sands, and we will restrict the fluid substitution to these"
   ]
  },
  {
   "cell_type": "code",
   "execution_count": 12,
   "metadata": {},
   "outputs": [],
   "source": [
    "cutoffs = {'Volume': ['<', 0.5], 'Porosity': ['>', 0.1]}"
   ]
  },
  {
   "cell_type": "markdown",
   "metadata": {},
   "source": [
    "We also need to specify which logs we would use as inputs to the fluid substitution"
   ]
  },
  {
   "cell_type": "code",
   "execution_count": 13,
   "metadata": {},
   "outputs": [],
   "source": [
    "log_table = {'P velocity': 'vp_dry', 'S velocity': 'vs_dry', 'Density': 'rho_dry', 'Porosity': 'phie', 'Volume': 'vcl'}"
   ]
  },
  {
   "cell_type": "markdown",
   "metadata": {},
   "source": [
    "The rest of the work (calculating initial and final fluid properties, mineral properties, etc.), and the gassmann fluid substitution, is handled by the following function"
   ]
  },
  {
   "cell_type": "code",
   "execution_count": 14,
   "metadata": {},
   "outputs": [
    {
     "name": "stdout",
     "output_type": "stream",
     "text": [
      "INFO: Extract water depth in well WELL_F from templates\n",
      "INFO: Extract water depth in well WELL_F from templates\n",
      "INFO: Extract water depth in well WELL_F from templates\n",
      "INFO: Extract water depth in well WELL_F from templates\n",
      "INFO: Extract kb in well WELL_F from templates\n",
      "INFO: Extract water depth in well WELL_F from templates\n",
      "INFO: Extract kb in well WELL_F from templates\n",
      "Well WELL_A not listed in the fluid mixture, skipping\n",
      "Well WELL_B not listed in the fluid mixture, skipping\n",
      "Well WELL_C not listed in the fluid mixture, skipping\n",
      "INFO: Starting Gassmann fluid substitution on well WELL_F\n",
      "INFO: Calculating Voigt-Reuss-Hill bound of k for well WELL_F in interval SAND E\n",
      "  quartz    K: 36.6, Mu: 45.0, Rho 2.65\n",
      "    Volume fraction: complement\n",
      "  shale    K: 22.337340368891446, Mu: 11.096107785059152, Rho 2.5890000000000004\n",
      "    Volume fraction: vcl\n",
      "\n",
      " Mineral k: quartz, volume frac: complement\n",
      " Mineral k: shale, volume frac: vcl\n",
      "INFO: Calculating Voigt bound of rho for well WELL_F in interval SAND E\n",
      "  brine_    K: 2.68, Mu: nan, Rho 1.023\n",
      "    Volume fraction: 1.0\n",
      "\n",
      " Fluid rho: brine_, volume frac: 1.0\n",
      "INFO: Calculating Reuss bound of k for well WELL_F in interval SAND E\n",
      "  brine_    K: 2.68, Mu: nan, Rho 1.023\n",
      "    Volume fraction: 1.0\n",
      "\n",
      " Fluid k: brine_, volume frac: 1.0\n",
      "INFO: Calculating Voigt bound of rho for well WELL_F in interval SAND E\n",
      "  default_oil    K: 1.5537635116151243, Mu: nan, Rho 0.8582331125689899\n",
      "    Volume fraction: complement\n",
      "  default_brine    K: 2.823579305878809, Mu: nan, Rho 1.0409183457738482\n",
      "    Volume fraction: sw\n",
      "\n",
      " Fluid rho: default_oil, volume frac: complement\n",
      " Fluid rho: default_brine, volume frac: sw\n",
      "INFO: Calculating Reuss bound of k for well WELL_F in interval SAND E\n",
      "  default_oil    K: 1.5537635116151243, Mu: nan, Rho 0.8582331125689899\n",
      "    Volume fraction: complement\n",
      "  default_brine    K: 2.823579305878809, Mu: nan, Rho 1.0409183457738482\n",
      "    Volume fraction: sw\n",
      "\n",
      " Fluid k: default_oil, volume frac: complement\n",
      " Fluid k: default_brine, volume frac: sw\n"
     ]
    },
    {
     "name": "stderr",
     "output_type": "stream",
     "text": [
      "C:\\Users\\marten\\PycharmProjects\\blixt_rp\\blixt_rp\\rp\\rp_core.py:609: RuntimeWarning: invalid value encountered in greater\n",
      "  if (abs(sum(f) - 1.0) > 0.02).any():\n",
      "C:\\Users\\marten\\PycharmProjects\\blixt_rp\\blixt_rp\\rp\\rp_core.py:1024: RuntimeWarning: invalid value encountered in less\n",
      "  por[por < 7E-3] = 7E-3\n",
      "C:\\Users\\marten\\PycharmProjects\\blixt_rp\\blixt_rp\\rp\\rp_core.py:1043: RuntimeWarning: invalid value encountered in sqrt\n",
      "  v_p_2 = np.sqrt((k_2+(4/3)*mu_2) / rho_2) * 1E3  # m/s\n"
     ]
    }
   ],
   "source": [
    "tag = 'fs'  # tag the resulting logs after fluid substitution\n",
    "rp.run_fluid_sub(wells, log_table, mymins, myfluids, cutoffs, wis, tag, templates=templates)"
   ]
  },
  {
   "cell_type": "markdown",
   "metadata": {},
   "source": [
    "The simple fluid substitution process shown here is hard coded in *MyProject.py*, in the function *predefined_fluid_substitution()*, which makes it quick and easy to redo it.\n",
    "\n",
    "### Plotting the results\n",
    "First plot the original input logs, then replot using the newly created fluid substituted logs, and then replot again using the loaded example from an earlier fluid substitution results (from RokDoc) that was saved to the las file. "
   ]
  },
  {
   "cell_type": "code",
   "execution_count": 16,
   "metadata": {},
   "outputs": [
    {
     "name": "stdout",
     "output_type": "stream",
     "text": [
      "Plotting well WELL_F\n",
      "WARNING: The fig parameter is deprecated, the figure instance is automatically picked from the ax object\n",
      "Plotting well WELL_F\n",
      "WARNING: The fig parameter is deprecated, the figure instance is automatically picked from the ax object\n",
      "Plotting well WELL_F\n",
      "WARNING: The fig parameter is deprecated, the figure instance is automatically picked from the ax object\n"
     ]
    },
    {
     "data": {
      "text/plain": [
       "(False, <matplotlib.legend.Legend at 0x1bf6a545408>)"
      ]
     },
     "execution_count": 16,
     "metadata": {},
     "output_type": "execute_result"
    },
    {
     "data": {
      "image/png": "[encoded data removed]",
      "text/plain": [
       "<Figure size 720x576 with 1 Axes>"
      ]
     },
     "metadata": {
      "needs_background": "light"
     },
     "output_type": "display_data"
    }
   ],
   "source": [
    "fig, ax = plt.subplots(figsize=(10,8))\n",
    "log_table = {'P velocity': 'vp_dry', 'S velocity': 'vs_dry', 'Density': 'rho_dry', 'Porosity': 'phie', 'Volume': 'vcl'}\n",
    "templates['WELL_F']['color'] = 'b'\n",
    "prp.plot_rp({'WELL_F': w}, log_table, wis, 'SAND E', cutoffs, templates, fig=fig, ax=ax, edge_color=False, show_masked=True)\n",
    "\n",
    "# specify the new logs coming from the fluid substitution\n",
    "log_table = {'P velocity': 'vp_dry_fs', 'S velocity': 'vs_dry_fs', 'Density': 'rho_dry_fs', 'Porosity': 'phie', 'Volume': 'vcl'}\n",
    "templates['WELL_F']['color'] = 'r'\n",
    "prp.plot_rp({'WELL_F': w}, log_table, wis, 'SAND E', cutoffs, templates, fig=fig, ax=ax, edge_color=False)\n",
    "\n",
    "# specify the new logs coming from the RokDoc fluid substitution stored in the las file\n",
    "log_table = {'P velocity': 'vp_so08', 'S velocity': 'vs_so08', 'Density': 'rho_so08', 'Porosity': 'phie', 'Volume': 'vcl'}\n",
    "templates['WELL_F']['color'] = 'g'\n",
    "prp.plot_rp({'WELL_F': w}, log_table, wis, 'SAND E', cutoffs, templates, fig=fig, ax=ax, edge_color=False)"
   ]
  },
  {
   "cell_type": "markdown",
   "metadata": {},
   "source": [
    "The grayed out points are the shales within *SAND E* working interval, and the blue markers are the initial values.\n",
    "Red markers are the current fluid substitution, while the green are from an earlier fluidsubstitution in RokDoc. \n",
    "\n",
    "### Saving the results\n",
    "Save the well as a las file"
   ]
  },
  {
   "cell_type": "code",
   "execution_count": 17,
   "metadata": {},
   "outputs": [
    {
     "name": "stdout",
     "output_type": "stream",
     "text": [
      "WARNING: File C:\\Users\\marten\\PycharmProjects\\blixt_rp\\results_folder\\WELL_F.las already exist. Write cancelled\n"
     ]
    }
   ],
   "source": [
    "for well in wells.values():\n",
    "    if well.well != 'WELL_F':\n",
    "        continue\n",
    "    uio.write_las(\n",
    "        os.path.join(wp.working_dir, 'results_folder', '{}.las'.format(well.well)),\n",
    "        well.header,\n",
    "        well.block['Logs'].header,\n",
    "        well.block['Logs'].logs\n",
    "    )"
   ]
  },
  {
   "cell_type": "code",
   "execution_count": 18,
   "metadata": {},
   "outputs": [
    {
     "data": {
      "text/plain": [
       "                name: vp_dry_fs\n",
       "                well: WELL_F\n",
       "       creation_info: Created by marten, at DESKTOP-7JFC02N, on 2023-06-11T10:06:58.648473, using version 1.0.0\n",
       "       creation_date: 2023-06-11T10:06:58.648473\n",
       "       orig_filename: test_data/Well F.las\n",
       "   modification_date: 2023-06-11T14:20:51.411394\n",
       "modification_history: , , Calculated using Gassmann fluid substitution using following\n",
       "Mineral mixtures: Mineral mixture: WELL_F, SAND E, MyMinerals\n",
       "    quartz\n",
       "      K: 36.6, Mu: 45.0, Rho 2.65\n",
       "      Calculation method: User specified, cutoff: None\n",
       "      Status: from excel\n",
       "      Volume fraction: complement\n",
       "    shale\n",
       "      K: 22.337340368891446, Mu: 11.096107785059152, Rho 2.5890000000000004\n",
       "      Calculation method: Interval average, cutoff: VCL>0.8, PHIE<0.1\n",
       "      Status: calculated from interval average\n",
       "      Volume fraction: vcl\n",
       "\n",
       "Initial fluids: Fluid mixture: initial, WELL_F, SAND E, MyFluids\n",
       "  brine_\n",
       "      K: 2.68, Mu: nan, Rho 1.023\n",
       "      Calculation method: User specified\n",
       "      Status: from excel\n",
       "      Volume fraction: 1.0\n",
       "\n",
       "Final fluids: Fluid mixture: final, WELL_F, SAND E, MyFluids\n",
       "  default_oil\n",
       "      K: 1.5537635116151243, Mu: nan, Rho 0.8582331125689899\n",
       "      Calculation method: Batzle and Wang\n",
       "      Status: calculated using Batzle and Wang at burial depth 1804.08\n",
       "      Volume fraction: complement\n",
       "  default_brine\n",
       "      K: 2.823579305878809, Mu: nan, Rho 1.0409183457738482\n",
       "      Calculation method: Batzle and Wang\n",
       "      Status: calculated using Batzle and Wang at burial depth 1804.08\n",
       "      Volume fraction: sw\n",
       "\n",
       "\n",
       "            log_type: P velocity\n",
       "            api_code: None\n",
       "                unit: m/s\n",
       "                desc: Fluid substituted vp_dry\n",
       "           orig_name: \n",
       "           full_name: vp_dry_fs"
      ]
     },
     "execution_count": 18,
     "metadata": {},
     "output_type": "execute_result"
    }
   ],
   "source": [
    "w.block['Logs'].logs['vp_dry_fs'].header"
   ]
  },
  {
   "cell_type": "code",
   "execution_count": null,
   "metadata": {},
   "outputs": [],
   "source": []
  }
 ],
 "metadata": {
  "kernelspec": {
   "display_name": "Python 3",
   "language": "python",
   "name": "python3"
  },
  "language_info": {
   "codemirror_mode": {
    "name": "ipython",
    "version": 3
   },
   "file_extension": ".py",
   "mimetype": "text/x-python",
   "name": "python",
   "nbconvert_exporter": "python",
   "pygments_lexer": "ipython3",
   "version": "3.7.4"
  }
 },
 "nbformat": 4,
 "nbformat_minor": 4
}
